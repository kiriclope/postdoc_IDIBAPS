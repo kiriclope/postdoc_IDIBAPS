{
 "cells": [
  {
   "cell_type": "code",
   "execution_count": 1,
   "metadata": {
    "colab": null,
    "colab_type": "code",
    "collapsed": false,
    "executionInfo": {
     "elapsed": 1818,
     "status": "ok",
     "timestamp": 1592514584081,
     "user": {
      "displayName": "Alexandre Mahrach",
      "photoUrl": "https://lh3.googleusercontent.com/a-/AOh14GhREbTfVj7nG3n79EpQHV8mQZTpDxc2i0dEE1QVnA=s64",
      "userId": "06055010574325695552"
     },
     "user_tz": -120
    },
    "id": "HtoTFfmbG0n9"
   },
   "outputs": [],
   "source": [
    "#importing libraries\n",
    "from importlib import reload\n",
    "\n",
    "import os\n",
    "import sys\n",
    "sys.path.insert(1, '../python/')\n",
    "\n",
    "from scipy.io import loadmat\n",
    "import numpy as np\n",
    "import matplotlib.pyplot as plt\n",
    "import matplotlib.ticker as ticker\n",
    "\n",
    "from sklearn import svm\n",
    "from sklearn.ensemble import RandomForestClassifier\n",
    "from sklearn.preprocessing import StandardScaler\n",
    "import sklearn.ensemble\n",
    "from sklearn.metrics import make_scorer\n",
    "from sklearn.metrics import recall_score, precision_score, f1_score\n",
    "from sklearn.model_selection import cross_validate\n",
    "\n",
    "from which_trials import which_trials"
   ]
  },
  {
   "cell_type": "code",
   "execution_count": 25,
   "metadata": {
    "collapsed": false
   },
   "outputs": [],
   "source": [
    "#specify folder and session of the experiment\n",
    "folder = 'JawsM15' #ChrM04 or JawsM15 or C57_2_DualTask\n",
    "session = '20200609' #20200521-6 or 20200605-09 or 20200116-20"
   ]
  },
  {
   "cell_type": "code",
   "execution_count": 26,
   "metadata": {
    "collapsed": false
   },
   "outputs": [],
   "source": [
    "#this is the fluorescence data\n",
    "data = loadmat('../DataForAlexandre/' + folder + '/' + session + 'SumFluoTraceFile' + '.mat')"
   ]
  },
  {
   "cell_type": "code",
   "execution_count": 27,
   "metadata": {
    "collapsed": false
   },
   "outputs": [],
   "source": [
    "X_fluo = np.rollaxis(data['C_df'],1,0)\n",
    "X_fluo_df = np.rollaxis(data['dFF0'],1,0)\n",
    "X_rates = np.rollaxis(data['S_dec'],1,0)\n",
    "y_labels = data['Events'].transpose()"
   ]
  },
  {
   "cell_type": "code",
   "execution_count": 28,
   "metadata": {
    "collapsed": false
   },
   "outputs": [
    {
     "name": "stdout",
     "output_type": "stream",
     "text": [
      "data.shape\n",
      "#trials, #neuron, #frames (time)\n",
      "(192, 1423, 121)\n",
      "(192, 1423, 121)\n",
      "(192, 1423, 121)\n",
      "labels.shape\n",
      "#labels, #trials\n",
      "(9, 192)\n",
      "[14 13  0  0 14 14  0 14 13  0 13 13  0 14  0 13 14 13  0 13 13 14 14  0\n",
      " 13  0 13 14  0 13 13  0 13 14  0 13  0  0 13  0 14 14 14  0 14 14 14 13\n",
      "  0 13 14 14  0 13 14  0 13 13 14  0  0 13  0  0  0 13 14 14 14 14 13 13\n",
      "  0 14 13 14 14 14  0 13 13 13  0 13  0 14 13 13  0 14 13 14  0  0  0 14\n",
      "  0 13 14 14  0 13 14 13  0 14 13 14 14 14 13  0  0  0 14 13 13  0  0 13\n",
      " 14 13  0  0 14 14 14 14  0  0 13  0 13 14 13 14  0 13 13  0 13 14 13  0\n",
      " 14 13 14 14 14 14 13 14  0  0 13  0 13  0 13  0 13  0 13 14 14  0  0 13\n",
      " 14 14  0 13 14 13 13 13  0  0 13 13 14 14 13  0 13  0 14 14  0 14  0  0]\n"
     ]
    }
   ],
   "source": [
    "print('data.shape')\n",
    "print('#trials, #neuron, #frames (time)')\n",
    "print(X_fluo.shape)\n",
    "print(X_fluo_df.shape)\n",
    "print(X_rates.shape)\n",
    "\n",
    "print('labels.shape')\n",
    "print('#labels, #trials')\n",
    "print(y_labels.shape)\n",
    "print(y_labels[4])"
   ]
  },
  {
   "cell_type": "code",
   "execution_count": 29,
   "metadata": {
    "collapsed": false
   },
   "outputs": [
    {
     "name": "stdout",
     "output_type": "stream",
     "text": [
      "data has nan?\n",
      "False\n"
     ]
    },
    {
     "name": "stdout",
     "output_type": "stream",
     "text": [
      "False\n",
      "False\n",
      "labels has nan?\n",
      "False\n"
     ]
    }
   ],
   "source": [
    "print('data has nan?')\n",
    "print(np.isnan(X_fluo).any())\n",
    "print(np.isnan(X_fluo_df).any())\n",
    "print(np.isnan(X_rates).any())\n",
    "print('labels has nan?')\n",
    "print(np.isnan(y_labels).any())"
   ]
  },
  {
   "cell_type": "code",
   "execution_count": 30,
   "metadata": {
    "collapsed": false
   },
   "outputs": [
    {
     "name": "stdout",
     "output_type": "stream",
     "text": [
      "(32,)\n",
      "[  2   6  18  23  25  36  37  39  48  52  55  63  78  84  93  94  96 104\n",
      " 111 112 122 123 129 136 152 153 159 161 177 183 185 191]\n"
     ]
    }
   ],
   "source": [
    "y_ND_trials = which_trials(y_labels, 'ND_trials')\n",
    "print(y_ND_trials.shape)\n",
    "print(y_ND_trials)"
   ]
  },
  {
   "cell_type": "code",
   "execution_count": 31,
   "metadata": {
    "collapsed": false
   },
   "outputs": [
    {
     "name": "stdout",
     "output_type": "stream",
     "text": [
      "(16,)\n",
      "[  6  18  25  36  48  63  78  93  96 104 129 136 152 161 185 191]\n",
      "(16,)\n",
      "[  2  23  37  39  52  55  84  94 111 112 122 123 153 159 177 183]\n"
     ]
    }
   ],
   "source": [
    "y_S1_ND_trials = which_trials(y_labels, 'S1_ND_trials')\n",
    "print(y_S1_ND_trials.shape)\n",
    "print(y_S1_ND_trials)\n",
    "y_S2_ND_trials = which_trials(y_labels, 'S2_ND_trials')\n",
    "print(y_S2_ND_trials.shape)\n",
    "print(y_S2_ND_trials)"
   ]
  },
  {
   "cell_type": "code",
   "execution_count": 32,
   "metadata": {
    "colab": {
     "base_uri": "https://localhost:8080/",
     "height": 51
    },
    "colab_type": "code",
    "collapsed": false,
    "executionInfo": {
     "elapsed": 8256,
     "status": "ok",
     "timestamp": 1592514602509,
     "user": {
      "displayName": "Alexandre Mahrach",
      "photoUrl": "https://lh3.googleusercontent.com/a-/AOh14GhREbTfVj7nG3n79EpQHV8mQZTpDxc2i0dEE1QVnA=s64",
      "userId": "06055010574325695552"
     },
     "user_tz": -120
    },
    "id": "4qurv7n3-brv",
    "outputId": "0dd6ecce-9d1a-44a4-8f2f-4c3282e1b9ca"
   },
   "outputs": [
    {
     "name": "stdout",
     "output_type": "stream",
     "text": [
      "(16, 1423, 121)\n",
      "(16, 1423, 121)\n"
     ]
    }
   ],
   "source": [
    "X_S1_ND_trials = X_rates[y_S1_ND_trials]\n",
    "print(X_S1_ND_trials.shape)\n",
    "X_S2_ND_trials = X_rates[y_S2_ND_trials]\n",
    "print(X_S2_ND_trials.shape)"
   ]
  },
  {
   "cell_type": "code",
   "execution_count": 33,
   "metadata": {
    "collapsed": false
   },
   "outputs": [],
   "source": [
    "def binArray(data, axis, binstep, binsize):\n",
    "    out = [np.mean(np.take(data,np.arange(int(i*binstep),int(i*binstep+binsize)), axis=2), axis=2) for i in np.arange(data.shape[2]//binstep)-1]\n",
    "    out = np.array(out)\n",
    "    out = np.rollaxis(out,0,3)\n",
    "    return out"
   ]
  },
  {
   "cell_type": "code",
   "execution_count": 34,
   "metadata": {
    "collapsed": false
   },
   "outputs": [
    {
     "name": "stdout",
     "output_type": "stream",
     "text": [
      "(16, 1423, 80)\n"
     ]
    },
    {
     "name": "stdout",
     "output_type": "stream",
     "text": [
      "(16, 1423, 80)\n"
     ]
    }
   ],
   "source": [
    "X_S1_ND_trials = binArray(X_S1_ND_trials,2,1.5,3)\n",
    "print(X_S1_ND_trials.shape)\n",
    "X_S2_ND_trials = binArray(X_S2_ND_trials,2,1.5,3)\n",
    "print(X_S2_ND_trials.shape)"
   ]
  },
  {
   "cell_type": "code",
   "execution_count": 35,
   "metadata": {
    "collapsed": false
   },
   "outputs": [
    {
     "data": {
      "image/png": "[encoded data removed]",
      "text/plain": [
       "<Figure size 432x324 with 1 Axes>"
      ]
     },
     "metadata": {
      "needs_background": "light"
     },
     "output_type": "display_data"
    }
   ],
   "source": [
    "time = np.linspace(0,20,X_S2_ND_trials.shape[2]);\n",
    "X_window = np.mean(X_S2_ND_trials, axis=1) # avg over neurons \n",
    "X_avg = np.mean(X_window,axis=0)*1000 # avg over trials \n",
    "X_std = np.std(X_window,axis=0)*1000 # std over trials\n",
    "\n",
    "plt.plot(time,X_avg,c='k')\n",
    "plt.fill_between(time, X_avg - X_std, X_avg + X_std, alpha=0.25, color='magenta')\n",
    "\n",
    "plt.axvline(x=2, c='k', ls='--') # DPA sample onset \n",
    "plt.axvline(x=3, c='k', ls='--')\n",
    "\n",
    "plt.axvline(x=9, c='k', ls='--') # DPA test onset\n",
    "plt.axvline(x=10, c='k', ls='--')\n",
    "\n",
    "plt.axvline(x=4.5, c='r', ls='--') # DRT distractor onset\n",
    "plt.axvline(x=5.5, c='r', ls='--')\n",
    "\n",
    "plt.axvline(x=6.5, c='r', ls='--') # DRT cue onset\n",
    "plt.axvline(x=7.5, c='r', ls='--')\n",
    "\n",
    "plt.xlabel('frame') ;\n",
    "plt.ylabel('rates (Hz)') ;"
   ]
  },
  {
   "cell_type": "code",
   "execution_count": 36,
   "metadata": {
    "colab": {
     "base_uri": "https://localhost:8080/",
     "height": 85
    },
    "colab_type": "code",
    "collapsed": false,
    "executionInfo": {
     "elapsed": 683,
     "status": "ok",
     "timestamp": 1592517325162,
     "user": {
      "displayName": "Alexandre Mahrach",
      "photoUrl": "https://lh3.googleusercontent.com/a-/AOh14GhREbTfVj7nG3n79EpQHV8mQZTpDxc2i0dEE1QVnA=s64",
      "userId": "06055010574325695552"
     },
     "user_tz": -120
    },
    "id": "e8rXIjBSHnbF",
    "outputId": "d2119646-a9be-4508-a415-3e64d32d6d89"
   },
   "outputs": [
    {
     "name": "stdout",
     "output_type": "stream",
     "text": [
      "(array([0]), array([16]))\n",
      "(array([1]), array([16]))\n",
      "[0 0 0 0 0 0 0 0 0 0 0 0 0 0 0 0 1 1 1 1 1 1 1 1 1 1 1 1 1 1 1 1]\n"
     ]
    }
   ],
   "source": [
    "#generating the labels from the length of the trials (samples)\n",
    "y_S1 = np.repeat(0,int(X_S1_ND_trials.shape[0]))\n",
    "print(np.unique(y_S1, return_counts=True))\n",
    "\n",
    "y_S2 = np.repeat(1,int(X_S1_ND_trials.shape[0]))\n",
    "print(np.unique(y_S2, return_counts=True))\n",
    "\n",
    "y_S1_S2 = np.concatenate((y_S1, y_S2))\n",
    "print(y_S1_S2)"
   ]
  },
  {
   "cell_type": "code",
   "execution_count": 37,
   "metadata": {
    "colab": {
     "base_uri": "https://localhost:8080/",
     "height": 34
    },
    "colab_type": "code",
    "collapsed": false,
    "executionInfo": {
     "elapsed": 512,
     "status": "ok",
     "timestamp": 1592517229736,
     "user": {
      "displayName": "Alexandre Mahrach",
      "photoUrl": "https://lh3.googleusercontent.com/a-/AOh14GhREbTfVj7nG3n79EpQHV8mQZTpDxc2i0dEE1QVnA=s64",
      "userId": "06055010574325695552"
     },
     "user_tz": -120
    },
    "id": "lVT5pIjr_Ktq",
    "outputId": "bce117a1-0707-4320-edbc-8b591c2b480e"
   },
   "outputs": [
    {
     "name": "stdout",
     "output_type": "stream",
     "text": [
      "(32, 1423, 80)\n"
     ]
    }
   ],
   "source": [
    "#concatenating S1 and S2 by the trials\n",
    "X_S1_S2 = np.concatenate((X_S1_ND_trials, X_S2_ND_trials), axis=0)\n",
    "print(X_S1_S2.shape)"
   ]
  },
  {
   "cell_type": "code",
   "execution_count": 61,
   "metadata": {
    "colab": null,
    "colab_type": "code",
    "collapsed": false,
    "executionInfo": {
     "elapsed": 1032,
     "status": "ok",
     "timestamp": 1592517236321,
     "user": {
      "displayName": "Alexandre Mahrach",
      "photoUrl": "https://lh3.googleusercontent.com/a-/AOh14GhREbTfVj7nG3n79EpQHV8mQZTpDxc2i0dEE1QVnA=s64",
      "userId": "06055010574325695552"
     },
     "user_tz": -120
    },
    "id": "9UJQOhruILfv"
   },
   "outputs": [],
   "source": [
    "time_window = 3\n",
    "split_windows = np.array_split(X_S1_S2, X_S1_S2.shape[2]/time_window, axis=2)"
   ]
  },
  {
   "cell_type": "code",
   "execution_count": 62,
   "metadata": {
    "colab": {
     "base_uri": "https://localhost:8080/",
     "height": 85
    },
    "colab_type": "code",
    "collapsed": false,
    "executionInfo": {
     "elapsed": 487,
     "status": "ok",
     "timestamp": 1592517236324,
     "user": {
      "displayName": "Alexandre Mahrach",
      "photoUrl": "https://lh3.googleusercontent.com/a-/AOh14GhREbTfVj7nG3n79EpQHV8mQZTpDxc2i0dEE1QVnA=s64",
      "userId": "06055010574325695552"
     },
     "user_tz": -120
    },
    "id": "hVHCsW6UIR24",
    "outputId": "d918ae94-3df7-4f18-bd28-1789918546c8"
   },
   "outputs": [
    {
     "name": "stdout",
     "output_type": "stream",
     "text": [
      "[ 0.          0.80666667  1.61333333  2.42        3.22666667  4.03333333\n",
      "  4.84        5.64666667  6.45333333  7.26        8.06666667  8.87333333\n",
      "  9.68       10.48666667 11.29333333 12.1        12.90666667 13.71333333\n",
      " 14.52       15.32666667 16.13333333 16.94       17.74666667 18.55333333\n",
      " 19.36       20.16666667]\n"
     ]
    }
   ],
   "source": [
    "#defining the time vector\n",
    "time = np.linspace(0, X_rates.shape[2]/6, num=len(split_windows))\n",
    "print(time)"
   ]
  },
  {
   "cell_type": "code",
   "execution_count": 63,
   "metadata": {
    "collapsed": false
   },
   "outputs": [],
   "source": [
    "from decode_utils import *"
   ]
  },
  {
   "cell_type": "code",
   "execution_count": 64,
   "metadata": {
    "collapsed": false
   },
   "outputs": [],
   "source": [
    "cv = 5\n",
    "model_name = 'svm_linear'\n",
    "scoring = {'f_score S1': make_scorer(f1_score, average = None, labels = [0]),\n",
    "       'f_score S2': make_scorer(f1_score, average = None, labels = [1])}\n",
    "clf = svm.LinearSVC() #svm.SVC(kernel='rbf', random_state=1, gamma=.001, C=1)"
   ]
  },
  {
   "cell_type": "code",
   "execution_count": 65,
   "metadata": {
    "colab": {
     "base_uri": "https://localhost:8080/",
     "height": 1000
    },
    "colab_type": "code",
    "collapsed": false,
    "executionInfo": {
     "elapsed": 2036,
     "status": "ok",
     "timestamp": 1592517240297,
     "user": {
      "displayName": "Alexandre Mahrach",
      "photoUrl": "https://lh3.googleusercontent.com/a-/AOh14GhREbTfVj7nG3n79EpQHV8mQZTpDxc2i0dEE1QVnA=s64",
      "userId": "06055010574325695552"
     },
     "user_tz": -120
    },
    "id": "PqW4bgFMAwKH",
    "outputId": "7e0984c7-75f8-495f-8403-17e9ebe0e9e3"
   },
   "outputs": [
    {
     "name": "stdout",
     "output_type": "stream",
     "text": [
      "Window iteration #1\n",
      "window shape of current iteration\n",
      "(32, 1423, 4)\n",
      "crossvalidation  value #1\n",
      "fit_time\n",
      "[0.01511264 0.01822138 0.02188349 0.02025437 0.0137465 ]\n",
      "crossvalidation  value #2\n",
      "score_time\n",
      "[0.00374985 0.00370479 0.00351548 0.00356412 0.00322104]\n",
      "crossvalidation  value #3\n",
      "test_f_score S1\n",
      "[0.44444444 0.         0.8        0.33333333 0.28571429]\n",
      "crossvalidation  value #4\n",
      "test_f_score S2\n",
      "[0.         0.72727273 0.85714286 0.33333333 0.        ]\n",
      "Window iteration #2\n",
      "window shape of current iteration\n",
      "(32, 1423, 4)\n"
     ]
    },
    {
     "name": "stdout",
     "output_type": "stream",
     "text": [
      "crossvalidation  value #1\n",
      "fit_time\n",
      "[0.01953912 0.01947474 0.02356625 0.02239943 0.02005482]\n",
      "crossvalidation  value #2\n",
      "score_time\n",
      "[0.00334692 0.00373411 0.00392127 0.00372505 0.00376725]\n",
      "crossvalidation  value #3\n",
      "test_f_score S1\n",
      "[0.66666667 0.4        0.33333333 0.4        0.4       ]\n",
      "crossvalidation  value #4\n",
      "test_f_score S2\n",
      "[0.4        0.66666667 0.33333333 0.57142857 0.57142857]\n",
      "Window iteration #3\n",
      "window shape of current iteration\n",
      "(32, 1423, 3)\n",
      "crossvalidation  value #1\n",
      "fit_time\n",
      "[0.01451564 0.00988483 0.01470184 0.01766467 0.0179193 ]\n",
      "crossvalidation  value #2\n",
      "score_time\n",
      "[0.0035944  0.00335217 0.00381732 0.00370193 0.00370383]\n",
      "crossvalidation  value #3\n",
      "test_f_score S1\n",
      "[0.88888889 1.         1.         0.4        0.66666667]\n",
      "crossvalidation  value #4\n",
      "test_f_score S2\n",
      "[0.8        1.         1.         0.57142857 0.66666667]\n",
      "Window iteration #4\n",
      "window shape of current iteration\n",
      "(32, 1423, 3)\n"
     ]
    },
    {
     "name": "stdout",
     "output_type": "stream",
     "text": [
      "crossvalidation  value #1\n",
      "fit_time\n",
      "[0.00972247 0.01527953 0.01466012 0.01618814 0.01700044]\n",
      "crossvalidation  value #2\n",
      "score_time\n",
      "[0.00381804 0.00374818 0.0037117  0.00401354 0.00380254]\n",
      "crossvalidation  value #3\n",
      "test_f_score S1\n",
      "[0.66666667 0.5        1.         1.         0.66666667]\n",
      "crossvalidation  value #4\n",
      "test_f_score S2\n",
      "[0.4        0.8        1.         1.         0.66666667]\n",
      "Window iteration #5\n",
      "window shape of current iteration\n",
      "(32, 1423, 3)\n",
      "crossvalidation  value #1\n",
      "fit_time\n",
      "[0.00985932 0.01587844 0.01174974 0.01585889 0.01446867]\n",
      "crossvalidation  value #2\n",
      "score_time\n",
      "[0.00360036 0.00330305 0.00383329 0.00375104 0.00368524]\n",
      "crossvalidation  value #3\n",
      "test_f_score S1\n",
      "[0.5        0.5        1.         0.85714286 1.        ]\n",
      "crossvalidation  value #4\n",
      "test_f_score S2\n",
      "[0.33333333 0.8        1.         0.8        1.        ]\n",
      "Window iteration #6\n",
      "window shape of current iteration\n",
      "(32, 1423, 3)\n"
     ]
    },
    {
     "name": "stdout",
     "output_type": "stream",
     "text": [
      "crossvalidation  value #1\n",
      "fit_time\n",
      "[0.01396489 0.01397514 0.01829886 0.01586485 0.01628232]\n",
      "crossvalidation  value #2\n",
      "score_time\n",
      "[0.00342798 0.00383759 0.00366259 0.00354123 0.00368214]\n",
      "crossvalidation  value #3\n",
      "test_f_score S1\n",
      "[0.8        0.5        0.8        0.66666667 0.85714286]\n",
      "crossvalidation  value #4\n",
      "test_f_score S2\n",
      "[0.5        0.8        0.85714286 0.66666667 0.8       ]\n",
      "Window iteration #7\n",
      "window shape of current iteration\n",
      "(32, 1423, 3)\n",
      "crossvalidation  value #1\n",
      "fit_time\n",
      "[0.01301503 0.01270819 0.01624751 0.01876116 0.0176034 ]\n",
      "crossvalidation  value #2\n",
      "score_time\n",
      "[0.00376129 0.00389743 0.00367999 0.00352693 0.00375366]\n",
      "crossvalidation  value #3\n",
      "test_f_score S1\n",
      "[0.6        0.5        0.66666667 0.66666667 0.8       ]\n",
      "crossvalidation  value #4\n",
      "test_f_score S2\n",
      "[0.         0.8        0.66666667 0.66666667 0.85714286]\n",
      "Window iteration #8\n",
      "window shape of current iteration\n",
      "(32, 1423, 3)\n"
     ]
    },
    {
     "name": "stdout",
     "output_type": "stream",
     "text": [
      "crossvalidation  value #1\n",
      "fit_time\n",
      "[0.01377106 0.01344562 0.01715088 0.01401067 0.01711249]\n",
      "crossvalidation  value #2\n",
      "score_time\n",
      "[0.00371432 0.00363421 0.00362396 0.00372529 0.00368071]\n",
      "crossvalidation  value #3\n",
      "test_f_score S1\n",
      "[0.66666667 0.         0.8        0.4        0.66666667]\n",
      "crossvalidation  value #4\n",
      "test_f_score S2\n",
      "[0.4        0.72727273 0.85714286 0.57142857 0.66666667]\n",
      "Window iteration #9\n",
      "window shape of current iteration\n",
      "(32, 1423, 3)\n",
      "crossvalidation  value #1\n",
      "fit_time\n",
      "[0.01514292 0.0144372  0.01740003 0.0139761  0.01494622]\n",
      "crossvalidation  value #2\n",
      "score_time\n",
      "[0.00368595 0.00414467 0.00360537 0.00371766 0.0035975 ]\n",
      "crossvalidation  value #3\n",
      "test_f_score S1\n",
      "[0.6        0.4        0.57142857 0.57142857 0.8       ]\n",
      "crossvalidation  value #4\n",
      "test_f_score S2\n",
      "[0.         0.66666667 0.4        0.4        0.85714286]\n",
      "Window iteration #10\n",
      "window shape of current iteration\n",
      "(32, 1423, 3)\n"
     ]
    },
    {
     "name": "stdout",
     "output_type": "stream",
     "text": [
      "crossvalidation  value #1\n",
      "fit_time\n",
      "[0.01648259 0.01533747 0.01570892 0.01237893 0.01731873]\n",
      "crossvalidation  value #2\n",
      "score_time\n",
      "[0.003582   0.00357437 0.00367618 0.00331903 0.00327849]\n",
      "crossvalidation  value #3\n",
      "test_f_score S1\n",
      "[0.66666667 0.33333333 0.66666667 0.66666667 0.4       ]\n",
      "crossvalidation  value #4\n",
      "test_f_score S2\n",
      "[0.4        0.5        0.66666667 0.66666667 0.57142857]\n",
      "Window iteration #11\n",
      "window shape of current iteration\n",
      "(32, 1423, 3)\n",
      "crossvalidation  value #1\n",
      "fit_time\n",
      "[0.0093894  0.01657057 0.00994611 0.01678538 0.01690125]\n",
      "crossvalidation  value #2\n",
      "score_time\n",
      "[0.00392389 0.00385022 0.00373316 0.00381684 0.00376987]\n",
      "crossvalidation  value #3\n",
      "test_f_score S1\n",
      "[0.8        0.4        0.4        0.4        0.66666667]\n",
      "crossvalidation  value #4\n",
      "test_f_score S2\n",
      "[0.5        0.66666667 0.57142857 0.57142857 0.66666667]\n",
      "Window iteration #12\n",
      "window shape of current iteration\n",
      "(32, 1423, 3)\n"
     ]
    },
    {
     "name": "stdout",
     "output_type": "stream",
     "text": [
      "crossvalidation  value #1\n",
      "fit_time\n",
      "[0.01422691 0.01475382 0.01265788 0.01700997 0.01887655]\n",
      "crossvalidation  value #2\n",
      "score_time\n",
      "[0.0039537  0.0035491  0.00370908 0.0035398  0.00387645]\n",
      "crossvalidation  value #3\n",
      "test_f_score S1\n",
      "[0.6        0.33333333 0.4        0.66666667 0.66666667]\n",
      "crossvalidation  value #4\n",
      "test_f_score S2\n",
      "[0.         0.5        0.57142857 0.66666667 0.66666667]\n",
      "Window iteration #13\n",
      "window shape of current iteration\n",
      "(32, 1423, 3)\n",
      "crossvalidation  value #1\n",
      "fit_time\n",
      "[0.01436377 0.01471162 0.015836   0.01153064 0.01549459]\n",
      "crossvalidation  value #2\n",
      "score_time\n",
      "[0.00392222 0.00370455 0.00373363 0.00421429 0.00380135]\n",
      "crossvalidation  value #3\n",
      "test_f_score S1\n",
      "[0.72727273 0.         0.8        1.         0.8       ]\n",
      "crossvalidation  value #4\n",
      "test_f_score S2\n",
      "[0.         0.6        0.85714286 1.         0.85714286]\n",
      "Window iteration #14\n",
      "window shape of current iteration\n",
      "(32, 1423, 3)\n"
     ]
    },
    {
     "name": "stdout",
     "output_type": "stream",
     "text": [
      "crossvalidation  value #1\n",
      "fit_time\n",
      "[0.01218581 0.01310682 0.0183363  0.01707315 0.02507567]\n",
      "crossvalidation  value #2\n",
      "score_time\n",
      "[0.00383592 0.00363088 0.00377011 0.00378776 0.00410295]\n",
      "crossvalidation  value #3\n",
      "test_f_score S1\n",
      "[0.75       0.4        0.33333333 1.         0.8       ]\n",
      "crossvalidation  value #4\n",
      "test_f_score S2\n",
      "[0.66666667 0.66666667 0.33333333 1.         0.85714286]\n",
      "Window iteration #15\n",
      "window shape of current iteration\n",
      "(32, 1423, 3)\n",
      "crossvalidation  value #1\n",
      "fit_time\n",
      "[0.01713514 0.01328874 0.01354599 0.02001667 0.01767373]\n",
      "crossvalidation  value #2\n",
      "score_time\n",
      "[0.00364709 0.00349426 0.00381327 0.00366688 0.00398874]\n",
      "crossvalidation  value #3\n",
      "test_f_score S1\n",
      "[0.6        0.5        0.         0.57142857 0.4       ]\n",
      "crossvalidation  value #4\n",
      "test_f_score S2\n",
      "[0.         0.8        0.28571429 0.4        0.57142857]\n",
      "Window iteration #16\n",
      "window shape of current iteration\n",
      "(32, 1423, 3)\n"
     ]
    },
    {
     "name": "stdout",
     "output_type": "stream",
     "text": [
      "crossvalidation  value #1\n",
      "fit_time\n",
      "[0.01480508 0.01589417 0.01514602 0.01336145 0.018291  ]\n",
      "crossvalidation  value #2\n",
      "score_time\n",
      "[0.00380015 0.00341916 0.00369763 0.00354934 0.00369668]\n",
      "crossvalidation  value #3\n",
      "test_f_score S1\n",
      "[0.72727273 0.         0.33333333 0.33333333 0.28571429]\n",
      "crossvalidation  value #4\n",
      "test_f_score S2\n",
      "[0.         0.72727273 0.33333333 0.33333333 0.        ]\n",
      "Window iteration #17\n",
      "window shape of current iteration\n",
      "(32, 1423, 3)\n",
      "crossvalidation  value #1\n",
      "fit_time\n",
      "[0.01554489 0.01376414 0.01654744 0.01724267 0.02174211]\n",
      "crossvalidation  value #2\n",
      "score_time\n",
      "[0.00359249 0.00345945 0.00389671 0.00366807 0.00367689]\n",
      "crossvalidation  value #3\n",
      "test_f_score S1\n",
      "[0.6        0.         0.33333333 0.66666667 0.28571429]\n",
      "crossvalidation  value #4\n",
      "test_f_score S2\n",
      "[0.         0.6        0.33333333 0.66666667 0.        ]\n",
      "Window iteration #18\n",
      "window shape of current iteration\n",
      "(32, 1423, 3)\n"
     ]
    },
    {
     "name": "stdout",
     "output_type": "stream",
     "text": [
      "crossvalidation  value #1\n",
      "fit_time\n",
      "[0.01527309 0.01665831 0.0168395  0.0156641  0.01463246]\n",
      "crossvalidation  value #2\n",
      "score_time\n",
      "[0.00381756 0.00391173 0.00362396 0.00360084 0.00374436]\n",
      "crossvalidation  value #3\n",
      "test_f_score S1\n",
      "[0.6        0.         0.66666667 0.57142857 0.33333333]\n",
      "crossvalidation  value #4\n",
      "test_f_score S2\n",
      "[0.         0.72727273 0.66666667 0.4        0.33333333]\n",
      "Window iteration #19\n",
      "window shape of current iteration\n",
      "(32, 1423, 3)\n",
      "crossvalidation  value #1\n",
      "fit_time\n",
      "[0.01593375 0.01653147 0.01635718 0.0179143  0.01612401]\n",
      "crossvalidation  value #2\n",
      "score_time\n",
      "[0.0036099  0.00367498 0.00359297 0.0036087  0.00371313]\n",
      "crossvalidation  value #3\n",
      "test_f_score S1\n",
      "[0.72727273 0.5        0.85714286 0.66666667 0.4       ]\n",
      "crossvalidation  value #4\n",
      "test_f_score S2\n",
      "[0.         0.8        0.8        0.66666667 0.57142857]\n",
      "Window iteration #20\n",
      "window shape of current iteration\n",
      "(32, 1423, 3)\n"
     ]
    },
    {
     "name": "stdout",
     "output_type": "stream",
     "text": [
      "crossvalidation  value #1\n",
      "fit_time\n",
      "[0.01302338 0.01354408 0.01339126 0.01695442 0.02106071]\n",
      "crossvalidation  value #2\n",
      "score_time\n",
      "[0.0036912  0.00359941 0.00375247 0.00355959 0.00376725]\n",
      "crossvalidation  value #3\n",
      "test_f_score S1\n",
      "[0.6        0.5        0.         0.5        0.66666667]\n",
      "crossvalidation  value #4\n",
      "test_f_score S2\n",
      "[0.         0.8        0.         0.75       0.66666667]\n",
      "Window iteration #21\n",
      "window shape of current iteration\n",
      "(32, 1423, 3)\n",
      "crossvalidation  value #1\n",
      "fit_time\n",
      "[0.01532435 0.01239872 0.01709771 0.01692915 0.02030277]\n",
      "crossvalidation  value #2\n",
      "score_time\n",
      "[0.0036006  0.00374007 0.00355387 0.00359035 0.00370431]\n",
      "crossvalidation  value #3\n",
      "test_f_score S1\n",
      "[0.72727273 0.66666667 0.33333333 0.66666667 0.33333333]\n",
      "crossvalidation  value #4\n",
      "test_f_score S2\n",
      "[0.         0.75       0.33333333 0.66666667 0.33333333]\n",
      "Window iteration #22\n",
      "window shape of current iteration\n",
      "(32, 1423, 3)\n"
     ]
    },
    {
     "name": "stdout",
     "output_type": "stream",
     "text": [
      "crossvalidation  value #1\n",
      "fit_time\n",
      "[0.01417756 0.01493287 0.0148797  0.01449156 0.01179695]\n",
      "crossvalidation  value #2\n",
      "score_time\n",
      "[0.00371528 0.00380564 0.00392485 0.00380635 0.00382972]\n",
      "crossvalidation  value #3\n",
      "test_f_score S1\n",
      "[0.6        0.33333333 0.28571429 0.33333333 0.33333333]\n",
      "crossvalidation  value #4\n",
      "test_f_score S2\n",
      "[0.         0.5        0.         0.33333333 0.33333333]\n",
      "Window iteration #23\n",
      "window shape of current iteration\n",
      "(32, 1423, 3)\n",
      "crossvalidation  value #1\n",
      "fit_time\n",
      "[0.01728773 0.01452374 0.01435184 0.01425076 0.01782465]\n",
      "crossvalidation  value #2\n",
      "score_time\n",
      "[0.00371003 0.00365353 0.00355673 0.00375485 0.00382304]\n",
      "crossvalidation  value #3\n",
      "test_f_score S1\n",
      "[0.44444444 0.4        0.33333333 0.8        0.66666667]\n",
      "crossvalidation  value #4\n",
      "test_f_score S2\n",
      "[0.         0.66666667 0.33333333 0.85714286 0.66666667]\n",
      "Window iteration #24\n",
      "window shape of current iteration\n",
      "(32, 1423, 3)\n"
     ]
    },
    {
     "name": "stdout",
     "output_type": "stream",
     "text": [
      "crossvalidation  value #1\n",
      "fit_time\n",
      "[0.01357746 0.01533508 0.01848221 0.01690364 0.01836658]\n",
      "crossvalidation  value #2\n",
      "score_time\n",
      "[0.00368309 0.00359368 0.0042119  0.00364685 0.00368214]\n",
      "crossvalidation  value #3\n",
      "test_f_score S1\n",
      "[0.6 0.  0.  0.  0. ]\n",
      "crossvalidation  value #4\n",
      "test_f_score S2\n",
      "[0.         0.72727273 0.5        0.         0.28571429]\n",
      "Window iteration #25\n",
      "window shape of current iteration\n",
      "(32, 1423, 3)\n",
      "crossvalidation  value #1\n",
      "fit_time\n",
      "[0.01565599 0.01432157 0.01793408 0.01528072 0.01677775]\n",
      "crossvalidation  value #2\n",
      "score_time\n",
      "[0.00383186 0.00376749 0.00349331 0.00368738 0.0036211 ]\n",
      "crossvalidation  value #3\n",
      "test_f_score S1\n",
      "[0.6        0.         0.28571429 0.28571429 0.        ]\n",
      "crossvalidation  value #4\n",
      "test_f_score S2\n",
      "[0.  0.6 0.  0.  0.5]\n",
      "Window iteration #26\n",
      "window shape of current iteration\n",
      "(32, 1423, 3)\n"
     ]
    },
    {
     "name": "stdout",
     "output_type": "stream",
     "text": [
      "crossvalidation  value #1\n",
      "fit_time\n",
      "[0.01614404 0.01492786 0.01576138 0.01674652 0.01109552]\n",
      "crossvalidation  value #2\n",
      "score_time\n",
      "[0.00389433 0.00349045 0.00365138 0.00378728 0.00402808]\n",
      "crossvalidation  value #3\n",
      "test_f_score S1\n",
      "[0.72727273 0.         0.57142857 1.         0.57142857]\n",
      "crossvalidation  value #4\n",
      "test_f_score S2\n",
      "[0.  0.6 0.4 1.  0.4]\n"
     ]
    }
   ],
   "source": [
    "S1_f_score, S2_f_score, S1_f_score_std, S2_f_score_std = cross_validate_clf(split_windows, y_S1_S2, cv, scoring, clf) ;"
   ]
  },
  {
   "cell_type": "code",
   "execution_count": 66,
   "metadata": {
    "colab": {
     "base_uri": "https://localhost:8080/",
     "height": 136
    },
    "colab_type": "code",
    "collapsed": false,
    "executionInfo": {
     "elapsed": 1106,
     "status": "ok",
     "timestamp": 1592517240299,
     "user": {
      "displayName": "Alexandre Mahrach",
      "photoUrl": "https://lh3.googleusercontent.com/a-/AOh14GhREbTfVj7nG3n79EpQHV8mQZTpDxc2i0dEE1QVnA=s64",
      "userId": "06055010574325695552"
     },
     "user_tz": -120
    },
    "id": "kpyVQoV1LZRQ",
    "outputId": "2b0609a1-4948-4d93-b7e4-d49a6243d7da"
   },
   "outputs": [
    {
     "name": "stdout",
     "output_type": "stream",
     "text": [
      "S1_f_score\n",
      "[0.37269841 0.44       0.79111111 0.76666667 0.77142857 0.7247619\n",
      " 0.64666667 0.50666667 0.58857143 0.54666667 0.53333333 0.53333333\n",
      " 0.66545455 0.65666667 0.41428571 0.33593074 0.37714286 0.43428571\n",
      " 0.63021645 0.45333333 0.54545455 0.37714286 0.52888889 0.12\n",
      " 0.23428571 0.57402597]\n",
      "\n",
      "List lenght (f_score) 26\n"
     ]
    }
   ],
   "source": [
    "#sample of the results\n",
    "print('S1_f_score')\n",
    "print(S1_f_score)\n",
    "print('\\nList lenght (f_score) ' + str(len(S1_f_score)))"
   ]
  },
  {
   "cell_type": "code",
   "execution_count": 67,
   "metadata": {
    "colab": {
     "base_uri": "https://localhost:8080/",
     "height": 136
    },
    "colab_type": "code",
    "collapsed": false,
    "executionInfo": {
     "elapsed": 829,
     "status": "ok",
     "timestamp": 1592517240952,
     "user": {
      "displayName": "Alexandre Mahrach",
      "photoUrl": "https://lh3.googleusercontent.com/a-/AOh14GhREbTfVj7nG3n79EpQHV8mQZTpDxc2i0dEE1QVnA=s64",
      "userId": "06055010574325695552"
     },
     "user_tz": -120
    },
    "id": "rzC7Us53HrIH",
    "outputId": "c1c7b7a1-6470-4e48-db93-44c25b5e3a6e"
   },
   "outputs": [
    {
     "name": "stdout",
     "output_type": "stream",
     "text": [
      "S2_f_score\n",
      "[0.38354978 0.50857143 0.80761905 0.77333333 0.78666667 0.7247619\n",
      " 0.59809524 0.64450216 0.4647619  0.56095238 0.5952381  0.48095238\n",
      " 0.66285714 0.7047619  0.41142857 0.27878788 0.32       0.42545455\n",
      " 0.56761905 0.44333333 0.41666667 0.23333333 0.5047619  0.3025974\n",
      " 0.22       0.48      ]\n",
      "\n",
      "List lenght (f_score) 26\n"
     ]
    }
   ],
   "source": [
    "#sample of the results\n",
    "print('S2_f_score')\n",
    "print(S2_f_score)\n",
    "print('\\nList lenght (f_score) ' + str(len(S2_f_score)))"
   ]
  },
  {
   "cell_type": "code",
   "execution_count": 68,
   "metadata": {
    "colab": {
     "base_uri": "https://localhost:8080/",
     "height": 350
    },
    "colab_type": "code",
    "collapsed": false,
    "executionInfo": {
     "elapsed": 1572,
     "status": "ok",
     "timestamp": 1592517243293,
     "user": {
      "displayName": "Alexandre Mahrach",
      "photoUrl": "https://lh3.googleusercontent.com/a-/AOh14GhREbTfVj7nG3n79EpQHV8mQZTpDxc2i0dEE1QVnA=s64",
      "userId": "06055010574325695552"
     },
     "user_tz": -120
    },
    "id": "pfkmbIr-E7xj",
    "outputId": "d51a4392-e702-4993-d04c-54bdaefd2042"
   },
   "outputs": [
    {
     "data": {
      "image/png": "[encoded data removed]",
      "text/plain": [
       "<Figure size 720x360 with 1 Axes>"
      ]
     },
     "metadata": {
      "needs_background": "light"
     },
     "output_type": "display_data"
    }
   ],
   "source": [
    "plot_decoding_results(S1_f_score, S2_f_score, S1_f_score_std, S2_f_score_std, time)"
   ]
  },
  {
   "cell_type": "code",
   "execution_count": 45,
   "metadata": {
    "collapsed": false
   },
   "outputs": [],
   "source": []
  },
  {
   "cell_type": "code",
   "execution_count": 45,
   "metadata": {
    "collapsed": false
   },
   "outputs": [],
   "source": []
  }
 ],
 "metadata": {
  "colab": {
   "authorship_tag": "ABX9TyMchv3pr+hZu+wR833oiO9K",
   "collapsed_sections": null,
   "mount_file_id": "1hYbNQR_5K2bMv-CJbY15C4HwGtPveT2o",
   "name": "dual_task_decode.ipynb",
   "provenance": null
  },
  "kernelspec": {
   "argv": [
    "python",
    "-m",
    "ipykernel_launcher",
    "-f",
    "{connection_file}"
   ],
   "display_name": "Python 3",
   "env": null,
   "interrupt_mode": "signal",
   "language": "python",
   "metadata": null,
   "name": "python3"
  },
  "name": "dual_task_decode.ipynb"
 },
 "nbformat": 4,
 "nbformat_minor": 0
}
