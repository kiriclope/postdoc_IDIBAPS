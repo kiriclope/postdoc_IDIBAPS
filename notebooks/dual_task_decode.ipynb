{
 "cells": [
  {
   "cell_type": "code",
   "execution_count": 190,
   "metadata": {
    "colab": null,
    "colab_type": "code",
    "collapsed": false,
    "executionInfo": {
     "elapsed": 1818,
     "status": "ok",
     "timestamp": 1592514584081,
     "user": {
      "displayName": "Alexandre Mahrach",
      "photoUrl": "https://lh3.googleusercontent.com/a-/AOh14GhREbTfVj7nG3n79EpQHV8mQZTpDxc2i0dEE1QVnA=s64",
      "userId": "06055010574325695552"
     },
     "user_tz": -120
    },
    "id": "HtoTFfmbG0n9"
   },
   "outputs": [],
   "source": [
    "#importing libraries\n",
    "import os, sys, importlib\n",
    "from importlib import reload\n",
    "sys.path.insert(1, '../python/')\n",
    "\n",
    "from data_utils import *\n",
    "from decode_utils import *\n",
    "\n",
    "importlib.reload(sys.modules['data_utils'])\n",
    "importlib.reload(sys.modules['decode_utils'])\n",
    "\n",
    "from scipy.io import loadmat\n",
    "import numpy as np\n",
    "import matplotlib.pyplot as plt\n",
    "import matplotlib.ticker as ticker\n",
    "\n",
    "from sklearn import svm\n",
    "from sklearn.preprocessing import StandardScaler\n",
    "import sklearn.ensemble\n",
    "from sklearn.metrics import make_scorer\n",
    "from sklearn.metrics import recall_score, precision_score, f1_score, accuracy_score\n",
    "from sklearn.model_selection import cross_validate"
   ]
  },
  {
   "cell_type": "code",
   "execution_count": 191,
   "metadata": {
    "collapsed": false
   },
   "outputs": [
    {
     "name": "stdout",
     "output_type": "stream",
     "text": [
      "20200521SumFluoTraceFile.mat  20200524SumFluoTraceFile.mat  Data Structure.txt\r\n",
      "20200522SumFluoTraceFile.mat  20200525SumFluoTraceFile.mat\r\n",
      "20200523SumFluoTraceFile.mat  20200526SumFluoTraceFile.mat\r\n"
     ]
    }
   ],
   "source": [
    "ls ../DataForAlexandre/ChRM04"
   ]
  },
  {
   "cell_type": "code",
   "execution_count": 192,
   "metadata": {
    "collapsed": false
   },
   "outputs": [],
   "source": [
    "#specify folder and session of the experiment\n",
    "folder = 'ChRM04' #ChRM04 or JawsM15 or C57_2_DualTask\n",
    "session = '20200521' #20200521-6 or 20200605-09 or 20200116-20"
   ]
  },
  {
   "cell_type": "code",
   "execution_count": 193,
   "metadata": {
    "collapsed": false
   },
   "outputs": [],
   "source": [
    "#this is the fluorescence data\n",
    "data = loadmat('../DataForAlexandre/' + folder + '/' + session + 'SumFluoTraceFile' + '.mat')"
   ]
  },
  {
   "cell_type": "code",
   "execution_count": 194,
   "metadata": {
    "collapsed": false
   },
   "outputs": [],
   "source": [
    "X_fluo = np.rollaxis(data['C_df'],1,0)\n",
    "X_fluo_df = np.rollaxis(data['dFF0'],1,0)\n",
    "X_rates = np.rollaxis(data['S_dec'],1,0)\n",
    "y_labels = data['Events'].transpose()"
   ]
  },
  {
   "cell_type": "code",
   "execution_count": 195,
   "metadata": {
    "collapsed": false
   },
   "outputs": [
    {
     "name": "stdout",
     "output_type": "stream",
     "text": [
      "data.shape\n",
      "#trials, #neuron, #frames (time)\n",
      "(192, 1435, 121)\n",
      "(192, 1435, 121)\n",
      "(192, 1435, 121)\n",
      "labels.shape\n",
      "#labels, #trials\n",
      "(9, 192)\n"
     ]
    }
   ],
   "source": [
    "print('data.shape')\n",
    "print('#trials, #neuron, #frames (time)')\n",
    "print(X_fluo.shape)\n",
    "print(X_fluo_df.shape)\n",
    "print(X_rates.shape)\n",
    "\n",
    "print('labels.shape')\n",
    "print('#labels, #trials')\n",
    "print(y_labels.shape)"
   ]
  },
  {
   "cell_type": "code",
   "execution_count": 196,
   "metadata": {
    "collapsed": false
   },
   "outputs": [
    {
     "name": "stdout",
     "output_type": "stream",
     "text": [
      "data has nan?\n",
      "False\n"
     ]
    },
    {
     "name": "stdout",
     "output_type": "stream",
     "text": [
      "False\n",
      "False\n",
      "labels has nan?\n",
      "False\n"
     ]
    }
   ],
   "source": [
    "print('data has nan?')\n",
    "print(np.isnan(X_fluo).any())\n",
    "print(np.isnan(X_fluo_df).any())\n",
    "print(np.isnan(X_rates).any())\n",
    "print('labels has nan?')\n",
    "print(np.isnan(y_labels).any())"
   ]
  },
  {
   "cell_type": "code",
   "execution_count": 197,
   "metadata": {
    "collapsed": false
   },
   "outputs": [
    {
     "name": "stdout",
     "output_type": "stream",
     "text": [
      "(32,)\n",
      "[ 13  17  20  21  28  29  32  42  49  53  61  66  73  75  81  89  99 112\n",
      " 113 117 130 131 136 143 150 152 153 158 169 171 174 177]\n"
     ]
    }
   ],
   "source": [
    "y_trials = which_trials(y_labels, 'ND_trials')\n",
    "print(y_trials.shape)\n",
    "print(y_trials)"
   ]
  },
  {
   "cell_type": "code",
   "execution_count": 198,
   "metadata": {
    "collapsed": false
   },
   "outputs": [
    {
     "name": "stdout",
     "output_type": "stream",
     "text": [
      "(16,)\n",
      "[  7  12  30  35  52  54  94  95 101 107 129 142 147 161 190 191]\n",
      "(16,)\n",
      "[  7  12  30  35  52  54  94  95 101 107 129 142 147 161 190 191]\n"
     ]
    }
   ],
   "source": [
    "y_S1_trials = which_trials(y_labels, 'S1_D2_trials')\n",
    "print(y_S1_trials.shape)\n",
    "print(y_S1_trials)\n",
    "y_S2_trials = which_trials(y_labels, 'S2_D2_trials')\n",
    "print(y_S2_trials.shape)\n",
    "print(y_S2_trials)"
   ]
  },
  {
   "cell_type": "code",
   "execution_count": 219,
   "metadata": {
    "colab": {
     "base_uri": "https://localhost:8080/",
     "height": 51
    },
    "colab_type": "code",
    "collapsed": false,
    "executionInfo": {
     "elapsed": 8256,
     "status": "ok",
     "timestamp": 1592514602509,
     "user": {
      "displayName": "Alexandre Mahrach",
      "photoUrl": "https://lh3.googleusercontent.com/a-/AOh14GhREbTfVj7nG3n79EpQHV8mQZTpDxc2i0dEE1QVnA=s64",
      "userId": "06055010574325695552"
     },
     "user_tz": -120
    },
    "id": "4qurv7n3-brv",
    "outputId": "0dd6ecce-9d1a-44a4-8f2f-4c3282e1b9ca"
   },
   "outputs": [
    {
     "name": "stdout",
     "output_type": "stream",
     "text": [
      "(16, 1435, 121)\n",
      "(16, 1435, 121)\n"
     ]
    },
    {
     "name": "stdout",
     "output_type": "stream",
     "text": [
      "(16, 1435, 120)\n"
     ]
    },
    {
     "name": "stdout",
     "output_type": "stream",
     "text": [
      "(16, 1435, 120)\n"
     ]
    }
   ],
   "source": [
    "X_S1_trials = X_fluo_df[y_S1_trials]\n",
    "X_S2_trials = X_fluo_df[y_S2_trials]\n",
    "X_S1_trials = X_S1_trials[0:X_S2_trials.shape[0]]\n",
    "\n",
    "print(X_S1_trials.shape)\n",
    "print(X_S2_trials.shape)\n",
    "\n",
    "X_S1_trials = bin_data(X_S1_trials,1,1)\n",
    "print(X_S1_trials.shape)\n",
    "X_S2_trials = bin_data(X_S2_trials,1,1)\n",
    "print(X_S2_trials.shape)"
   ]
  },
  {
   "cell_type": "code",
   "execution_count": 220,
   "metadata": {
    "collapsed": false
   },
   "outputs": [
    {
     "name": "stdout",
     "output_type": "stream",
     "text": [
      "119\n",
      "[119]\n",
      "[118]\n"
     ]
    }
   ],
   "source": [
    "bin_step = 1\n",
    "bin_size = 1\n",
    "data = X_S1_trials\n",
    "i = int(data.shape[2]/bin_step)-1\n",
    "print(i)\n",
    "j=i-1\n",
    "print(np.arange(int(i*bin_step),int(i*bin_step+bin_size)) )\n",
    "print(np.arange(int(j*bin_step),int(j*bin_step+bin_size)) )"
   ]
  },
  {
   "cell_type": "code",
   "execution_count": 221,
   "metadata": {
    "collapsed": false
   },
   "outputs": [
    {
     "data": {
      "image/png": "[encoded data removed]",
      "text/plain": [
       "<Figure size 432x324 with 1 Axes>"
      ]
     },
     "metadata": {
      "needs_background": "light"
     },
     "output_type": "display_data"
    }
   ],
   "source": [
    "time = np.linspace(0,20,X_S2_trials.shape[2]);\n",
    "X_window = np.mean(X_S2_trials, axis=1) # avg over neurons \n",
    "X_avg = np.mean(X_window,axis=0) # avg over trials \n",
    "X_std = np.std(X_window,axis=0) # std over trials\n",
    "\n",
    "plt.plot(time,X_avg,c='k')\n",
    "plt.fill_between(time, X_avg - X_std, X_avg + X_std, alpha=0.25, color='magenta')\n",
    "\n",
    "plt.axvline(x=2, c='k', ls='--') # DPA sample onset \n",
    "plt.axvline(x=3, c='k', ls='--')\n",
    "\n",
    "plt.axvline(x=9, c='k', ls='--') # DPA test onset\n",
    "plt.axvline(x=10, c='k', ls='--')\n",
    "\n",
    "plt.axvline(x=4.5, c='r', ls='--') # DRT distractor onset\n",
    "plt.axvline(x=5.5, c='r', ls='--')\n",
    "\n",
    "plt.axvline(x=6.5, c='r', ls='--') # DRT cue onset\n",
    "plt.axvline(x=7.5, c='r', ls='--')\n",
    "\n",
    "plt.xlabel('frame') ;\n",
    "plt.ylabel('rates (Hz)') ;"
   ]
  },
  {
   "cell_type": "code",
   "execution_count": 222,
   "metadata": {
    "colab": {
     "base_uri": "https://localhost:8080/",
     "height": 85
    },
    "colab_type": "code",
    "collapsed": false,
    "executionInfo": {
     "elapsed": 683,
     "status": "ok",
     "timestamp": 1592517325162,
     "user": {
      "displayName": "Alexandre Mahrach",
      "photoUrl": "https://lh3.googleusercontent.com/a-/AOh14GhREbTfVj7nG3n79EpQHV8mQZTpDxc2i0dEE1QVnA=s64",
      "userId": "06055010574325695552"
     },
     "user_tz": -120
    },
    "id": "e8rXIjBSHnbF",
    "outputId": "d2119646-a9be-4508-a415-3e64d32d6d89"
   },
   "outputs": [
    {
     "name": "stdout",
     "output_type": "stream",
     "text": [
      "(array([0]), array([16]))\n",
      "(array([1]), array([16]))\n",
      "[0 0 0 0 0 0 0 0 0 0 0 0 0 0 0 0 1 1 1 1 1 1 1 1 1 1 1 1 1 1 1 1]\n"
     ]
    }
   ],
   "source": [
    "#generating the labels from the length of the trials (samples)\n",
    "y_S1 = np.repeat(0,int(X_S1_trials.shape[0]))\n",
    "print(np.unique(y_S1, return_counts=True))\n",
    "\n",
    "y_S2 = np.repeat(1,int(X_S1_trials.shape[0]))\n",
    "print(np.unique(y_S2, return_counts=True))\n",
    "\n",
    "y_S1_S2 = np.concatenate((y_S1, y_S2))\n",
    "print(y_S1_S2)"
   ]
  },
  {
   "cell_type": "code",
   "execution_count": 223,
   "metadata": {
    "colab": {
     "base_uri": "https://localhost:8080/",
     "height": 34
    },
    "colab_type": "code",
    "collapsed": false,
    "executionInfo": {
     "elapsed": 512,
     "status": "ok",
     "timestamp": 1592517229736,
     "user": {
      "displayName": "Alexandre Mahrach",
      "photoUrl": "https://lh3.googleusercontent.com/a-/AOh14GhREbTfVj7nG3n79EpQHV8mQZTpDxc2i0dEE1QVnA=s64",
      "userId": "06055010574325695552"
     },
     "user_tz": -120
    },
    "id": "lVT5pIjr_Ktq",
    "outputId": "bce117a1-0707-4320-edbc-8b591c2b480e"
   },
   "outputs": [
    {
     "name": "stdout",
     "output_type": "stream",
     "text": [
      "(32, 1435, 120)\n"
     ]
    }
   ],
   "source": [
    "#concatenating S1 and S2 by the trials\n",
    "X_S1_S2 = np.concatenate((X_S1_trials, X_S2_trials), axis=0)\n",
    "print(X_S1_S2.shape)"
   ]
  },
  {
   "cell_type": "code",
   "execution_count": 224,
   "metadata": {
    "colab": null,
    "colab_type": "code",
    "collapsed": false,
    "executionInfo": {
     "elapsed": 1032,
     "status": "ok",
     "timestamp": 1592517236321,
     "user": {
      "displayName": "Alexandre Mahrach",
      "photoUrl": "https://lh3.googleusercontent.com/a-/AOh14GhREbTfVj7nG3n79EpQHV8mQZTpDxc2i0dEE1QVnA=s64",
      "userId": "06055010574325695552"
     },
     "user_tz": -120
    },
    "id": "9UJQOhruILfv"
   },
   "outputs": [],
   "source": [
    "time_window = 1\n",
    "split_windows = np.array_split(X_S1_S2, X_S1_S2.shape[2]/time_window, axis=2)"
   ]
  },
  {
   "cell_type": "code",
   "execution_count": 225,
   "metadata": {
    "colab": {
     "base_uri": "https://localhost:8080/",
     "height": 85
    },
    "colab_type": "code",
    "collapsed": false,
    "executionInfo": {
     "elapsed": 487,
     "status": "ok",
     "timestamp": 1592517236324,
     "user": {
      "displayName": "Alexandre Mahrach",
      "photoUrl": "https://lh3.googleusercontent.com/a-/AOh14GhREbTfVj7nG3n79EpQHV8mQZTpDxc2i0dEE1QVnA=s64",
      "userId": "06055010574325695552"
     },
     "user_tz": -120
    },
    "id": "hVHCsW6UIR24",
    "outputId": "d918ae94-3df7-4f18-bd28-1789918546c8"
   },
   "outputs": [
    {
     "name": "stdout",
     "output_type": "stream",
     "text": [
      "[ 0.          0.16946779  0.33893557  0.50840336  0.67787115  0.84733894\n",
      "  1.01680672  1.18627451  1.3557423   1.52521008  1.69467787  1.86414566\n",
      "  2.03361345  2.20308123  2.37254902  2.54201681  2.71148459  2.88095238\n",
      "  3.05042017  3.21988796  3.38935574  3.55882353  3.72829132  3.8977591\n",
      "  4.06722689  4.23669468  4.40616246  4.57563025  4.74509804  4.91456583\n",
      "  5.08403361  5.2535014   5.42296919  5.59243697  5.76190476  5.93137255\n",
      "  6.10084034  6.27030812  6.43977591  6.6092437   6.77871148  6.94817927\n",
      "  7.11764706  7.28711485  7.45658263  7.62605042  7.79551821  7.96498599\n",
      "  8.13445378  8.30392157  8.47338936  8.64285714  8.81232493  8.98179272\n",
      "  9.1512605   9.32072829  9.49019608  9.65966387  9.82913165  9.99859944\n",
      " 10.16806723 10.33753501 10.5070028  10.67647059 10.84593838 11.01540616\n",
      " 11.18487395 11.35434174 11.52380952 11.69327731 11.8627451  12.03221289\n",
      " 12.20168067 12.37114846 12.54061625 12.71008403 12.87955182 13.04901961\n",
      " 13.21848739 13.38795518 13.55742297 13.72689076 13.89635854 14.06582633\n",
      " 14.23529412 14.4047619  14.57422969 14.74369748 14.91316527 15.08263305\n",
      " 15.25210084 15.42156863 15.59103641 15.7605042  15.92997199 16.09943978\n",
      " 16.26890756 16.43837535 16.60784314 16.77731092 16.94677871 17.1162465\n",
      " 17.28571429 17.45518207 17.62464986 17.79411765 17.96358543 18.13305322\n",
      " 18.30252101 18.4719888  18.64145658 18.81092437 18.98039216 19.14985994\n",
      " 19.31932773 19.48879552 19.65826331 19.82773109 19.99719888 20.16666667]\n"
     ]
    }
   ],
   "source": [
    "#defining the time vector\n",
    "time = np.linspace(0, X_rates.shape[2]/6, num=len(split_windows))\n",
    "print(time)"
   ]
  },
  {
   "cell_type": "code",
   "execution_count": 226,
   "metadata": {
    "collapsed": false
   },
   "outputs": [],
   "source": [
    "cv = 5\n",
    "model_name = 'svm_linear'\n",
    "scoring = {'f_score S1': make_scorer(f1_score, average = None, labels = [0]),\n",
    "       'f_score S2': make_scorer(f1_score, average = None, labels = [1])}\n",
    "\n",
    "clf = svm.LinearSVC() #svm.SVC(kernel='rbf', random_state=1, gamma=.001, C=1)"
   ]
  },
  {
   "cell_type": "code",
   "execution_count": 227,
   "metadata": {
    "colab": {
     "base_uri": "https://localhost:8080/",
     "height": 1000
    },
    "colab_type": "code",
    "collapsed": false,
    "executionInfo": {
     "elapsed": 2036,
     "status": "ok",
     "timestamp": 1592517240297,
     "user": {
      "displayName": "Alexandre Mahrach",
      "photoUrl": "https://lh3.googleusercontent.com/a-/AOh14GhREbTfVj7nG3n79EpQHV8mQZTpDxc2i0dEE1QVnA=s64",
      "userId": "06055010574325695552"
     },
     "user_tz": -120
    },
    "id": "PqW4bgFMAwKH",
    "outputId": "7e0984c7-75f8-495f-8403-17e9ebe0e9e3"
   },
   "outputs": [],
   "source": [
    "S1_f_score, S2_f_score, S1_f_score_std, S2_f_score_std = cross_validate_clf(split_windows, y_S1_S2, cv, scoring, clf) ;"
   ]
  },
  {
   "cell_type": "code",
   "execution_count": 228,
   "metadata": {
    "colab": {
     "base_uri": "https://localhost:8080/",
     "height": 136
    },
    "colab_type": "code",
    "collapsed": false,
    "executionInfo": {
     "elapsed": 1106,
     "status": "ok",
     "timestamp": 1592517240299,
     "user": {
      "displayName": "Alexandre Mahrach",
      "photoUrl": "https://lh3.googleusercontent.com/a-/AOh14GhREbTfVj7nG3n79EpQHV8mQZTpDxc2i0dEE1QVnA=s64",
      "userId": "06055010574325695552"
     },
     "user_tz": -120
    },
    "id": "kpyVQoV1LZRQ",
    "outputId": "2b0609a1-4948-4d93-b7e4-d49a6243d7da"
   },
   "outputs": [
    {
     "name": "stdout",
     "output_type": "stream",
     "text": [
      "[0.1        0.1        0.16666667 0.1        0.16666667 0.11666667\n",
      " 0.18333333 0.         0.1        0.11666667 0.11666667 0.16666667\n",
      " 0.16666667 0.15       0.11666667 0.11666667 0.05       0.05\n",
      " 0.16666667 0.16666667 0.05       0.18333333 0.2        0.16666667\n",
      " 0.11666667 0.15       0.1        0.15       0.1        0.18333333\n",
      " 0.05       0.1        0.16666667 0.11666667 0.15       0.05\n",
      " 0.21666667 0.1        0.11666667 0.16666667 0.1        0.16666667\n",
      " 0.11666667 0.18333333 0.1        0.05       0.1        0.1\n",
      " 0.16666667 0.16666667 0.05       0.13333333 0.1        0.1\n",
      " 0.11666667 0.11666667 0.16666667 0.05       0.18333333 0.1\n",
      " 0.1        0.21666667 0.16666667 0.05       0.18333333 0.11666667\n",
      " 0.16666667 0.16666667 0.18333333 0.16666667 0.2        0.13\n",
      " 0.1        0.18333333 0.16666667 0.1        0.15       0.18333333\n",
      " 0.16666667 0.1        0.16666667 0.16666667 0.16666667 0.1\n",
      " 0.1        0.1        0.18333333 0.16666667 0.11666667 0.11666667\n",
      " 0.05       0.11666667 0.16666667 0.16666667 0.1        0.16666667\n",
      " 0.18333333 0.16666667 0.16666667 0.16666667 0.11666667 0.15\n",
      " 0.1        0.11666667 0.05       0.16666667 0.16666667 0.1\n",
      " 0.11666667 0.18333333 0.05       0.15       0.18333333 0.16666667\n",
      " 0.05       0.05       0.1        0.18333333 0.1        0.05      ]\n",
      "S1_f_score\n",
      "\n",
      "List lenght (f_score) 120\n"
     ]
    }
   ],
   "source": [
    "print(S1_f_score)\n",
    "print('S1_f_score')\n",
    "print('\\nList lenght (f_score) ' + str(len(S1_f_score)))"
   ]
  },
  {
   "cell_type": "code",
   "execution_count": 229,
   "metadata": {
    "colab": {
     "base_uri": "https://localhost:8080/",
     "height": 136
    },
    "colab_type": "code",
    "collapsed": false,
    "executionInfo": {
     "elapsed": 829,
     "status": "ok",
     "timestamp": 1592517240952,
     "user": {
      "displayName": "Alexandre Mahrach",
      "photoUrl": "https://lh3.googleusercontent.com/a-/AOh14GhREbTfVj7nG3n79EpQHV8mQZTpDxc2i0dEE1QVnA=s64",
      "userId": "06055010574325695552"
     },
     "user_tz": -120
    },
    "id": "rzC7Us53HrIH",
    "outputId": "c1c7b7a1-6470-4e48-db93-44c25b5e3a6e"
   },
   "outputs": [
    {
     "name": "stdout",
     "output_type": "stream",
     "text": [
      "S2_f_score\n",
      "[0.2        0.16666667 0.1        0.16666667 0.1        0.11666667\n",
      " 0.05       0.23333333 0.16666667 0.11666667 0.11666667 0.1\n",
      " 0.1        0.15       0.11666667 0.11666667 0.18333333 0.18333333\n",
      " 0.1        0.1        0.18333333 0.05       0.15       0.1\n",
      " 0.11666667 0.15       0.16666667 0.15       0.16666667 0.05\n",
      " 0.18333333 0.24666667 0.1        0.11666667 0.15       0.18333333\n",
      " 0.1        0.16666667 0.11666667 0.11666667 0.16666667 0.1\n",
      " 0.11666667 0.05       0.16666667 0.18333333 0.16666667 0.16666667\n",
      " 0.1        0.15       0.18333333 0.1        0.16666667 0.16666667\n",
      " 0.11666667 0.11666667 0.1        0.18333333 0.05       0.16666667\n",
      " 0.16666667 0.1        0.1        0.18333333 0.05       0.11666667\n",
      " 0.1        0.1        0.05       0.1        0.1        0.16666667\n",
      " 0.16666667 0.05       0.1        0.16666667 0.15       0.05\n",
      " 0.1        0.16666667 0.1        0.1        0.1        0.16666667\n",
      " 0.16666667 0.16666667 0.05       0.1        0.11666667 0.11666667\n",
      " 0.18333333 0.11666667 0.1        0.11666667 0.16666667 0.1\n",
      " 0.05       0.1        0.1        0.1        0.11666667 0.16666667\n",
      " 0.16666667 0.11666667 0.18333333 0.15       0.1        0.16666667\n",
      " 0.11666667 0.05       0.18333333 0.15       0.05       0.11666667\n",
      " 0.23333333 0.18333333 0.16666667 0.05       0.21666667 0.18333333]\n",
      "\n",
      "List lenght (f_score) 120\n"
     ]
    }
   ],
   "source": [
    "#sample of the results\n",
    "print('S2_f_score')\n",
    "print(S2_f_score)\n",
    "print('\\nList lenght (f_score) ' + str(len(S2_f_score)))"
   ]
  },
  {
   "cell_type": "code",
   "execution_count": 230,
   "metadata": {
    "colab": {
     "base_uri": "https://localhost:8080/",
     "height": 350
    },
    "colab_type": "code",
    "collapsed": false,
    "executionInfo": {
     "elapsed": 1572,
     "status": "ok",
     "timestamp": 1592517243293,
     "user": {
      "displayName": "Alexandre Mahrach",
      "photoUrl": "https://lh3.googleusercontent.com/a-/AOh14GhREbTfVj7nG3n79EpQHV8mQZTpDxc2i0dEE1QVnA=s64",
      "userId": "06055010574325695552"
     },
     "user_tz": -120
    },
    "id": "pfkmbIr-E7xj",
    "outputId": "d51a4392-e702-4993-d04c-54bdaefd2042"
   },
   "outputs": [
    {
     "data": {
      "image/png": "[encoded data removed]",
      "text/plain": [
       "<Figure size 720x360 with 1 Axes>"
      ]
     },
     "metadata": {
      "needs_background": "light"
     },
     "output_type": "display_data"
    }
   ],
   "source": [
    "plot_decoding_results(S1_f_score, S2_f_score, S1_f_score_std, S2_f_score_std, time)"
   ]
  },
  {
   "cell_type": "code",
   "execution_count": 133,
   "metadata": {
    "collapsed": false
   },
   "outputs": [
    {
     "data": {
      "text/plain": [
       "0.0"
      ]
     },
     "execution_count": 133,
     "metadata": {},
     "output_type": "execute_result"
    }
   ],
   "source": [
    "from sklearn.model_selection import train_test_split\n",
    "from sklearn import svm\n",
    "X = np.reshape((X_S1_S2), (X_S1_S2.shape[0], X_S1_S2.shape[1]* X_S1_S2.shape[2]))\n",
    "y = y_S1_S2\n",
    "X_train, X_test, y_train, y_test = train_test_split(X, y, test_size=0.2, random_state=0)\n",
    "clf = svm.SVC(kernel='linear', C=1).fit(X_train, y_train)\n",
    "clf.score(X_test, y_test)"
   ]
  },
  {
   "cell_type": "code",
   "execution_count": 270,
   "metadata": {
    "collapsed": false
   },
   "outputs": [
    {
     "name": "stdout",
     "output_type": "stream",
     "text": [
      "Accuracy: 0.60 (+/- 0.25)\n"
     ]
    }
   ],
   "source": [
    "from sklearn.model_selection import cross_val_score\n",
    "clf = svm.SVC(kernel='linear', C=1)\n",
    "scores = cross_val_score(clf, X, y, cv=5)\n",
    "print(\"Accuracy: %0.2f (+/- %0.2f)\" % (scores.mean(), scores.std() * 2))"
   ]
  },
  {
   "cell_type": "code",
   "execution_count": 271,
   "metadata": {
    "collapsed": false
   },
   "outputs": [
    {
     "name": "stdout",
     "output_type": "stream",
     "text": [
      "Accuracy: 0.57 (+/- 0.26)\n"
     ]
    }
   ],
   "source": [
    "from sklearn import metrics\n",
    "scores = cross_val_score(clf, X, y, cv=5, scoring='f1_macro')\n",
    "print(\"Accuracy: %0.2f (+/- %0.2f)\" % (scores.mean(), scores.std() * 2))"
   ]
  },
  {
   "cell_type": "code",
   "execution_count": 272,
   "metadata": {
    "collapsed": false
   },
   "outputs": [
    {
     "data": {
      "text/plain": [
       "0.42857142857142855"
      ]
     },
     "execution_count": 272,
     "metadata": {},
     "output_type": "execute_result"
    }
   ],
   "source": [
    "from sklearn import preprocessing\n",
    "X_train, X_test, y_train, y_test = train_test_split(X, y, test_size=0.2, random_state=0)\n",
    "scaler = preprocessing.StandardScaler().fit(X_train)\n",
    "X_train_transformed = scaler.transform(X_train)\n",
    "clf = svm.SVC(C=1).fit(X_train_transformed, y_train)\n",
    "X_test_transformed = scaler.transform(X_test)\n",
    "clf.score(X_test_transformed, y_test)"
   ]
  },
  {
   "cell_type": "code",
   "execution_count": null,
   "metadata": {
    "collapsed": false
   },
   "outputs": [],
   "source": []
  }
 ],
 "metadata": {
  "colab": {
   "authorship_tag": "ABX9TyMchv3pr+hZu+wR833oiO9K",
   "collapsed_sections": null,
   "mount_file_id": "1hYbNQR_5K2bMv-CJbY15C4HwGtPveT2o",
   "name": "dual_task_decode.ipynb",
   "provenance": null
  },
  "kernelspec": {
   "argv": [
    "python",
    "-m",
    "ipykernel_launcher",
    "-f",
    "{connection_file}"
   ],
   "display_name": "Python 3",
   "env": null,
   "interrupt_mode": "signal",
   "language": "python",
   "metadata": null,
   "name": "python3"
  },
  "name": "dual_task_decode.ipynb"
 },
 "nbformat": 4,
 "nbformat_minor": 0
}
