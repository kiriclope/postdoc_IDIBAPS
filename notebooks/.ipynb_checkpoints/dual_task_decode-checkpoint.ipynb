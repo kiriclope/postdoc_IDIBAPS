{
 "cells": [
  {
   "cell_type": "code",
   "execution_count": 334,
   "metadata": {
    "colab": null,
    "colab_type": "code",
    "collapsed": false,
    "executionInfo": {
     "elapsed": 1818,
     "status": "ok",
     "timestamp": 1592514584081,
     "user": {
      "displayName": "Alexandre Mahrach",
      "photoUrl": "https://lh3.googleusercontent.com/a-/AOh14GhREbTfVj7nG3n79EpQHV8mQZTpDxc2i0dEE1QVnA=s64",
      "userId": "06055010574325695552"
     },
     "user_tz": -120
    },
    "id": "HtoTFfmbG0n9"
   },
   "outputs": [],
   "source": [
    "#importing libraries\n",
    "from scipy.io import loadmat\n",
    "import numpy as np\n",
    "import matplotlib.pyplot as plt\n",
    "import os\n",
    "from sklearn import svm\n",
    "from sklearn.ensemble import RandomForestClassifier\n",
    "from sklearn.preprocessing import StandardScaler\n",
    "import sklearn.ensemble\n",
    "from sklearn.metrics import make_scorer\n",
    "from sklearn.metrics import recall_score, precision_score, f1_score\n",
    "from sklearn.model_selection import cross_validate\n",
    "import matplotlib.ticker as ticker"
   ]
  },
  {
   "cell_type": "code",
   "execution_count": null,
   "metadata": {
    "collapsed": false
   },
   "outputs": [],
   "source": [
    "#specify folder and session of the experiment\n",
    "folder = 'ChRM04' #JawsM15 or C57_2_DualTask\n",
    "session = '20200521' #20200605-10 or 20200116-20"
   ]
  },
  {
   "cell_type": "code",
   "execution_count": null,
   "metadata": {
    "collapsed": false
   },
   "outputs": [],
   "source": [
    "#this is the fluorescence data\n",
    "data = loadmat('../DataForAlexandre/' + folder + '/' + session + 'SumFluoTraceFile' + '.mat')"
   ]
  },
  {
   "cell_type": "code",
   "execution_count": null,
   "metadata": {
    "collapsed": false
   },
   "outputs": [],
   "source": [
    "X_fluo = np.rollaxis(data['C_df'],1,0)\n",
    "X_fluo_df = np.rollaxis(data['dFF0'],1,0)\n",
    "X_rates = np.rollaxis(data['S_dec'],1,0)\n",
    "y_labels = data['Events'].transpose()"
   ]
  },
  {
   "cell_type": "code",
   "execution_count": null,
   "metadata": {
    "collapsed": false
   },
   "outputs": [],
   "source": [
    "print('data.shape')\n",
    "print('#trials, #neuron, #frames (time)')\n",
    "print(X_fluo.shape)\n",
    "print(X_fluo_df.shape)\n",
    "print(X_rates.shape)\n",
    "\n",
    "print('labels.shape')\n",
    "print('#labels, #trials')\n",
    "print(y_labels.shape)"
   ]
  },
  {
   "cell_type": "code",
   "execution_count": null,
   "metadata": {
    "collapsed": false
   },
   "outputs": [],
   "source": [
    "print('data has nan?')\n",
    "print(np.isnan(X_fluo).any())\n",
    "print(np.isnan(X_fluo_df).any())\n",
    "print(np.isnan(X_rates).any())\n",
    "print('labels has nan?')\n",
    "print(np.isnan(y_labels).any())\n"
   ]
  },
  {
   "cell_type": "code",
   "execution_count": 348,
   "metadata": {
    "colab": {
     "base_uri": "https://localhost:8080/",
     "height": 85
    },
    "colab_type": "code",
    "collapsed": false,
    "executionInfo": {
     "elapsed": 9043,
     "status": "ok",
     "timestamp": 1592514602507,
     "user": {
      "displayName": "Alexandre Mahrach",
      "photoUrl": "https://lh3.googleusercontent.com/a-/AOh14GhREbTfVj7nG3n79EpQHV8mQZTpDxc2i0dEE1QVnA=s64",
      "userId": "06055010574325695552"
     },
     "user_tz": -120
    },
    "id": "zDdc1i2P-P0-",
    "outputId": "1c7d23e0-3d3f-4e25-ac6e-749d05ed99b7"
   },
   "outputs": [
    {
     "name": "stdout",
     "output_type": "stream",
     "text": [
      "(20,)\n",
      "[ 0  1  5  6  8  9 12 15 18 19 20 22 24 26 28 31 32 34 37 39]\n",
      "(20,)\n",
      "[ 2  3  4  7 10 11 13 14 16 17 21 23 25 27 29 30 33 35 36 38]\n"
     ]
    }
   ],
   "source": [
    "#S1 trials\n",
    "y_S1_ND_trials = np.argwhere(y_frame_labels[0][y_ND_trials]==17).flatten()\n",
    "print(y_S1_ND_trials.shape)\n",
    "print(y_S1_ND_trials)\n",
    "\n",
    "#S2 trials\n",
    "y_S2_ND_trials = np.argwhere(y_frame_labels[0][y_ND_trials]==18).flatten()\n",
    "print(y_S2_ND_trials.shape)\n",
    "print(y_S2_ND_trials)"
   ]
  },
  {
   "cell_type": "code",
   "execution_count": 349,
   "metadata": {
    "colab": {
     "base_uri": "https://localhost:8080/",
     "height": 51
    },
    "colab_type": "code",
    "collapsed": false,
    "executionInfo": {
     "elapsed": 8256,
     "status": "ok",
     "timestamp": 1592514602509,
     "user": {
      "displayName": "Alexandre Mahrach",
      "photoUrl": "https://lh3.googleusercontent.com/a-/AOh14GhREbTfVj7nG3n79EpQHV8mQZTpDxc2i0dEE1QVnA=s64",
      "userId": "06055010574325695552"
     },
     "user_tz": -120
    },
    "id": "4qurv7n3-brv",
    "outputId": "0dd6ecce-9d1a-44a4-8f2f-4c3282e1b9ca"
   },
   "outputs": [
    {
     "name": "stdout",
     "output_type": "stream",
     "text": [
      "(20, 168, 143)\n",
      "(20, 168, 143)\n"
     ]
    }
   ],
   "source": [
    "X_S1_ND_trials = X_frame_dff0[y_S1_ND_trials]\n",
    "print(X_S1_ND_trials.shape)\n",
    "X_S2_ND_trials = X_frame_dff0[y_S2_ND_trials]\n",
    "print(X_S2_ND_trials.shape)"
   ]
  },
  {
   "cell_type": "code",
   "execution_count": 366,
   "metadata": {
    "colab": {
     "base_uri": "https://localhost:8080/",
     "height": 85
    },
    "colab_type": "code",
    "collapsed": false,
    "executionInfo": {
     "elapsed": 635,
     "status": "ok",
     "timestamp": 1592514756627,
     "user": {
      "displayName": "Alexandre Mahrach",
      "photoUrl": "https://lh3.googleusercontent.com/a-/AOh14GhREbTfVj7nG3n79EpQHV8mQZTpDxc2i0dEE1QVnA=s64",
      "userId": "06055010574325695552"
     },
     "user_tz": -120
    },
    "id": "Se_Dzz4zONat",
    "outputId": "0da5ec8c-a670-4ce8-b5e9-35bc2c2199a9"
   },
   "outputs": [
    {
     "name": "stdout",
     "output_type": "stream",
     "text": [
      "(20,)\n",
      "[ 1  3  6  7  8 11 12 14 16 18 22 23 25 26 30 31 32 35 37 38]\n",
      "(20,)\n",
      "[ 0  2  4  5  9 10 13 15 17 19 20 21 24 27 28 29 33 34 36 39]\n"
     ]
    }
   ],
   "source": [
    "y_paired_ND_trials = np.argwhere( ((y_frame_labels[0][y_ND_trials]==17) & (y_frame_labels[1][y_ND_trials]==11)) | \n",
    "                                 ((y_frame_labels[0][y_ND_trials]==18) & (y_frame_labels[1][y_ND_trials]==12)) ).flatten() \n",
    "print(y_paired_ND_trials.shape)\n",
    "print(y_paired_ND_trials)\n",
    "\n",
    "y_non_paired_ND_trials = np.argwhere( ((y_frame_labels[0][y_ND_trials]==17) & (y_frame_labels[1][y_ND_trials]==12)) | \n",
    "                                 ((y_frame_labels[0][y_ND_trials]==18) & (y_frame_labels[1][y_ND_trials]==11)) ).flatten() \n",
    "print(y_non_paired_ND_trials.shape)\n",
    "print(y_non_paired_ND_trials)"
   ]
  },
  {
   "cell_type": "code",
   "execution_count": 367,
   "metadata": {
    "colab": null,
    "colab_type": "code",
    "collapsed": false,
    "executionInfo": {
     "elapsed": 512,
     "status": "ok",
     "timestamp": 1592514757930,
     "user": {
      "displayName": "Alexandre Mahrach",
      "photoUrl": "https://lh3.googleusercontent.com/a-/AOh14GhREbTfVj7nG3n79EpQHV8mQZTpDxc2i0dEE1QVnA=s64",
      "userId": "06055010574325695552"
     },
     "user_tz": -120
    },
    "id": "hR52Z6PiOUgP"
   },
   "outputs": [],
   "source": [
    "X_paired_ND_trials = X_frame_dff0[y_paired_ND_trials]\n",
    "X_non_paired_ND_trials = X_frame_dff0[y_non_paired_ND_trials]"
   ]
  },
  {
   "cell_type": "code",
   "execution_count": 368,
   "metadata": {
    "colab": null,
    "colab_type": "code",
    "collapsed": false,
    "executionInfo": {
     "elapsed": 1154,
     "status": "ok",
     "timestamp": 1592514760645,
     "user": {
      "displayName": "Alexandre Mahrach",
      "photoUrl": "https://lh3.googleusercontent.com/a-/AOh14GhREbTfVj7nG3n79EpQHV8mQZTpDxc2i0dEE1QVnA=s64",
      "userId": "06055010574325695552"
     },
     "user_tz": -120
    },
    "id": "WTPeu7sDPpkE"
   },
   "outputs": [],
   "source": [
    "scoring = {'f_score S1': make_scorer(f1_score, average = None, labels = [0]),\n",
    "       'f_score S2': make_scorer(f1_score, average = None, labels = [1])}"
   ]
  },
  {
   "cell_type": "code",
   "execution_count": 369,
   "metadata": {
    "colab": null,
    "colab_type": "code",
    "collapsed": false,
    "executionInfo": {
     "elapsed": 927,
     "status": "ok",
     "timestamp": 1592514760646,
     "user": {
      "displayName": "Alexandre Mahrach",
      "photoUrl": "https://lh3.googleusercontent.com/a-/AOh14GhREbTfVj7nG3n79EpQHV8mQZTpDxc2i0dEE1QVnA=s64",
      "userId": "06055010574325695552"
     },
     "user_tz": -120
    },
    "id": "bUmVSGDvHYVc"
   },
   "outputs": [],
   "source": [
    "#defining the time window to train the model\n",
    "time_window = 50/7.5\n",
    "#crossvalidation\n",
    "cv = 5\n",
    "#folder\n",
    "model_name = 'svm_linear'\n",
    "# folder = 'fluo_analysis_ND_trials_cv_' + str(cv) + '_'+ model_name +'_'+ str(time_window) + 'ms_' + session + '_' +'/'\n",
    "# if not os.path.exists(folder):\n",
    "#     os.makedirs(folder)"
   ]
  },
  {
   "cell_type": "code",
   "execution_count": 431,
   "metadata": {
    "colab": null,
    "colab_type": "code",
    "collapsed": false,
    "executionInfo": {
     "elapsed": 2025,
     "status": "ok",
     "timestamp": 1592517226772,
     "user": {
      "displayName": "Alexandre Mahrach",
      "photoUrl": "https://lh3.googleusercontent.com/a-/AOh14GhREbTfVj7nG3n79EpQHV8mQZTpDxc2i0dEE1QVnA=s64",
      "userId": "06055010574325695552"
     },
     "user_tz": -120
    },
    "id": "VIsQm_g-Ha3h"
   },
   "outputs": [],
   "source": [
    "#clf = sklearn.ensemble.ExtraTreesClassifier(n_jobs=-1, n_estimators=50)\n",
    "# print(clf)\n",
    "clf = svm.LinearSVC()"
   ]
  },
  {
   "cell_type": "code",
   "execution_count": 444,
   "metadata": {
    "colab": {
     "base_uri": "https://localhost:8080/",
     "height": 85
    },
    "colab_type": "code",
    "collapsed": false,
    "executionInfo": {
     "elapsed": 683,
     "status": "ok",
     "timestamp": 1592517325162,
     "user": {
      "displayName": "Alexandre Mahrach",
      "photoUrl": "https://lh3.googleusercontent.com/a-/AOh14GhREbTfVj7nG3n79EpQHV8mQZTpDxc2i0dEE1QVnA=s64",
      "userId": "06055010574325695552"
     },
     "user_tz": -120
    },
    "id": "e8rXIjBSHnbF",
    "outputId": "d2119646-a9be-4508-a415-3e64d32d6d89"
   },
   "outputs": [
    {
     "name": "stdout",
     "output_type": "stream",
     "text": [
      "(array([0]), array([20]))\n",
      "(array([1]), array([20]))\n",
      "[0 0 0 0 0 0 0 0 0 0 0 0 0 0 0 0 0 0 0 0 1 1 1 1 1 1 1 1 1 1 1 1 1 1 1 1 1\n",
      " 1 1 1]\n"
     ]
    }
   ],
   "source": [
    "#generating the labels from the length of the trials (samples)\n",
    "y_S1 = np.repeat(0,int(X_S1_ND_trials.shape[0]))\n",
    "print(np.unique(y_S1, return_counts=True))\n",
    "\n",
    "y_S2 = np.repeat(1,int(X_S1_ND_trials.shape[0]))\n",
    "print(np.unique(y_S2, return_counts=True))\n",
    "\n",
    "y_S1_S2 = np.concatenate((y_S1, y_S2))\n",
    "print(y_S1_S2)"
   ]
  },
  {
   "cell_type": "code",
   "execution_count": 433,
   "metadata": {
    "colab": {
     "base_uri": "https://localhost:8080/",
     "height": 34
    },
    "colab_type": "code",
    "collapsed": false,
    "executionInfo": {
     "elapsed": 512,
     "status": "ok",
     "timestamp": 1592517229736,
     "user": {
      "displayName": "Alexandre Mahrach",
      "photoUrl": "https://lh3.googleusercontent.com/a-/AOh14GhREbTfVj7nG3n79EpQHV8mQZTpDxc2i0dEE1QVnA=s64",
      "userId": "06055010574325695552"
     },
     "user_tz": -120
    },
    "id": "lVT5pIjr_Ktq",
    "outputId": "bce117a1-0707-4320-edbc-8b591c2b480e"
   },
   "outputs": [
    {
     "name": "stdout",
     "output_type": "stream",
     "text": [
      "(40, 168, 143)\n"
     ]
    }
   ],
   "source": [
    "#concatenating S1 and S2 by the trials\n",
    "X_S1_S2 = np.concatenate((X_S1_ND_trials, X_S2_ND_trials), axis=0)\n",
    "print(X_S1_S2.shape)"
   ]
  },
  {
   "cell_type": "code",
   "execution_count": 434,
   "metadata": {
    "colab": null,
    "colab_type": "code",
    "collapsed": false,
    "executionInfo": {
     "elapsed": 1032,
     "status": "ok",
     "timestamp": 1592517236321,
     "user": {
      "displayName": "Alexandre Mahrach",
      "photoUrl": "https://lh3.googleusercontent.com/a-/AOh14GhREbTfVj7nG3n79EpQHV8mQZTpDxc2i0dEE1QVnA=s64",
      "userId": "06055010574325695552"
     },
     "user_tz": -120
    },
    "id": "9UJQOhruILfv"
   },
   "outputs": [],
   "source": [
    "split_windows = np.array_split(X_S1_S2, X_S1_S2.shape[2]/time_window, axis=2)"
   ]
  },
  {
   "cell_type": "code",
   "execution_count": 435,
   "metadata": {
    "colab": {
     "base_uri": "https://localhost:8080/",
     "height": 85
    },
    "colab_type": "code",
    "collapsed": false,
    "executionInfo": {
     "elapsed": 487,
     "status": "ok",
     "timestamp": 1592517236324,
     "user": {
      "displayName": "Alexandre Mahrach",
      "photoUrl": "https://lh3.googleusercontent.com/a-/AOh14GhREbTfVj7nG3n79EpQHV8mQZTpDxc2i0dEE1QVnA=s64",
      "userId": "06055010574325695552"
     },
     "user_tz": -120
    },
    "id": "hVHCsW6UIR24",
    "outputId": "d918ae94-3df7-4f18-bd28-1789918546c8"
   },
   "outputs": [
    {
     "name": "stdout",
     "output_type": "stream",
     "text": [
      "[ 0.          0.95333333  1.90666667  2.86        3.81333333  4.76666667\n",
      "  5.72        6.67333333  7.62666667  8.58        9.53333333 10.48666667\n",
      " 11.44       12.39333333 13.34666667 14.3        15.25333333 16.20666667\n",
      " 17.16       18.11333333 19.06666667]\n"
     ]
    }
   ],
   "source": [
    "#defining the time vector\n",
    "time = np.linspace(0, 143/7.5, num=len(split_windows))\n",
    "print(time)"
   ]
  },
  {
   "cell_type": "code",
   "execution_count": 436,
   "metadata": {
    "colab": null,
    "colab_type": "code",
    "collapsed": false,
    "executionInfo": {
     "elapsed": 528,
     "status": "ok",
     "timestamp": 1592517237319,
     "user": {
      "displayName": "Alexandre Mahrach",
      "photoUrl": "https://lh3.googleusercontent.com/a-/AOh14GhREbTfVj7nG3n79EpQHV8mQZTpDxc2i0dEE1QVnA=s64",
      "userId": "06055010574325695552"
     },
     "user_tz": -120
    },
    "id": "Bcza5HNDI1Et"
   },
   "outputs": [],
   "source": [
    "# #what has been created?\n",
    "# print('split_windows info')\n",
    "# print(type(split_windows))\n",
    "# print('length ' + str(len(split_windows)))\n",
    "# #iterate over the first five element\n",
    "# for i, window in enumerate(split_windows):\n",
    "#     print('element #' + str(i) )\n",
    "#     print(window.shape)"
   ]
  },
  {
   "cell_type": "code",
   "execution_count": 437,
   "metadata": {
    "colab": null,
    "colab_type": "code",
    "collapsed": false,
    "executionInfo": {
     "elapsed": 587,
     "status": "ok",
     "timestamp": 1592517238379,
     "user": {
      "displayName": "Alexandre Mahrach",
      "photoUrl": "https://lh3.googleusercontent.com/a-/AOh14GhREbTfVj7nG3n79EpQHV8mQZTpDxc2i0dEE1QVnA=s64",
      "userId": "06055010574325695552"
     },
     "user_tz": -120
    },
    "id": "QbtEK20T_3DJ"
   },
   "outputs": [],
   "source": [
    "def cross_validate_clf(split_windows, y_S1_S2, cv, scoring, clf):\n",
    "    S2_f_score = []\n",
    "    S1_f_score = []\n",
    "\n",
    "    S2_f_score_std = []\n",
    "    S1_f_score_std = []\n",
    "\n",
    "    j = 0\n",
    "    for X_window in split_windows:\n",
    "        j = j+1\n",
    "        print('Window iteration #' + str(j))\n",
    "        print('window shape of current iteration')\n",
    "        print(X_window.shape)\n",
    "        #reshaping the array for samples = trials features = electrodes by time features\n",
    "        X_window  = np.reshape((X_window), (X_window.shape[0], X_window.shape[1]* X_window.shape[2]))\n",
    "        X_window = StandardScaler().fit_transform(X_window)\n",
    "        #scikit learn function to crossvalidate\n",
    "        #array of the form samples x features 2D = X_window\n",
    "        out = cross_validate(clf, X_window, y_S1_S2, scoring=scoring, cv=cv, return_train_score=False, n_jobs=-1)\n",
    "        i = 0\n",
    "        num_elements_cv = len(out)\n",
    "        #iterating over the dictionary\n",
    "        for key, value in out.items():\n",
    "            i = i + 1\n",
    "            print('crossvalidation  value #' + str(i))\n",
    "            print(key)\n",
    "            print(value)\n",
    "            if i == num_elements_cv-1:\n",
    "                #calculating the mean of the crossvalidation results\n",
    "                S1_f_score.append(np.average(value))\n",
    "                #calculating the standard deviation of the crossvalidated results\n",
    "                S1_f_score_std.append(np.std(value))\n",
    "    #             print('S1_f_score')\n",
    "    #             print(S1_f_score)\n",
    "            if i == num_elements_cv:\n",
    "                S2_f_score.append(np.average(value))\n",
    "                S2_f_score_std.append(np.std(value))\n",
    "    #             print('S2_f_score')\n",
    "    #             print(S2_f_score)\n",
    "\n",
    "    #transforming lists to numpy arrays\n",
    "    S1_f_score = np.array([S1_f_score])\n",
    "    S1_f_score = S1_f_score[0]\n",
    "\n",
    "    S2_f_score = np.array([S2_f_score])\n",
    "    S2_f_score = S2_f_score[0]\n",
    "\n",
    "    S1_f_score_std = np.array([S1_f_score_std])\n",
    "    S1_f_score_std = S1_f_score_std[0]\n",
    "\n",
    "    S2_f_score_std = np.array([S2_f_score_std])\n",
    "    S2_f_score_std = S2_f_score_std[0]\n",
    "\n",
    "    # #saving the results of the current modelling for future use (and not need to re run again)\n",
    "    # np.savetxt(folder + area + '_S1_score_' + str(time_window) + 'ms_window.txt', S1_f_score, fmt='%10.5f')\n",
    "    # np.savetxt(folder + area + '_S1_score_std' + str(time_window) + 'ms_window.txt', S1_f_score_std, fmt='%10.5f')\n",
    "\n",
    "    # np.savetxt(folder + area + '_S2_score_' + str(time_window) + 'ms_window.txt', S2_f_score, fmt='%10.5f')\n",
    "    # np.savetxt(folder + area + '_S2_score_std' + str(time_window) + 'ms_window.txt', S2_f_score_std, fmt='%10.5f')\n",
    "\n",
    "    return S1_f_score, S2_f_score, S1_f_score_std, S2_f_score_std\n"
   ]
  },
  {
   "cell_type": "code",
   "execution_count": 438,
   "metadata": {
    "colab": {
     "base_uri": "https://localhost:8080/",
     "height": 1000
    },
    "colab_type": "code",
    "collapsed": false,
    "executionInfo": {
     "elapsed": 2036,
     "status": "ok",
     "timestamp": 1592517240297,
     "user": {
      "displayName": "Alexandre Mahrach",
      "photoUrl": "https://lh3.googleusercontent.com/a-/AOh14GhREbTfVj7nG3n79EpQHV8mQZTpDxc2i0dEE1QVnA=s64",
      "userId": "06055010574325695552"
     },
     "user_tz": -120
    },
    "id": "PqW4bgFMAwKH",
    "outputId": "7e0984c7-75f8-495f-8403-17e9ebe0e9e3"
   },
   "outputs": [
    {
     "name": "stdout",
     "output_type": "stream",
     "text": [
      "Window iteration #1\n",
      "window shape of current iteration\n",
      "(40, 168, 7)\n",
      "crossvalidation  value #1\n",
      "fit_time\n",
      "[0.00571203 0.00484943 0.00376105 0.00490499 0.00352764]\n",
      "crossvalidation  value #2\n",
      "score_time\n",
      "[0.0028975  0.00468469 0.00286412 0.00232887 0.00146627]\n",
      "crossvalidation  value #3\n",
      "test_f_score S1\n",
      "[0.75       0.5        0.66666667 0.5        0.66666667]\n",
      "crossvalidation  value #4\n",
      "test_f_score S2\n",
      "[0.75       0.5        0.57142857 0.5        0.57142857]\n",
      "Window iteration #2\n",
      "window shape of current iteration\n",
      "(40, 168, 7)\n",
      "crossvalidation  value #1\n",
      "fit_time\n",
      "[0.00367904 0.00378299 0.00547218 0.00374174 0.00291896]\n",
      "crossvalidation  value #2\n",
      "score_time\n",
      "[0.00263572 0.00275564 0.00224018 0.00267029 0.00144577]\n",
      "crossvalidation  value #3\n",
      "test_f_score S1\n",
      "[0.75       0.25       0.66666667 0.66666667 0.57142857]\n",
      "crossvalidation  value #4\n",
      "test_f_score S2\n",
      "[0.75       0.25       0.57142857 0.57142857 0.66666667]\n",
      "Window iteration #3\n",
      "window shape of current iteration\n",
      "(40, 168, 7)\n",
      "crossvalidation  value #1\n",
      "fit_time\n",
      "[0.01105237 0.00478673 0.00457144 0.00455117 0.00316882]\n",
      "crossvalidation  value #2\n",
      "score_time\n",
      "[0.00287175 0.00447106 0.00226927 0.00261474 0.00148726]\n",
      "crossvalidation  value #3\n",
      "test_f_score S1\n",
      "[0.5        0.5        0.57142857 0.66666667 0.57142857]\n",
      "crossvalidation  value #4\n",
      "test_f_score S2\n",
      "[0.5        0.5        0.66666667 0.57142857 0.66666667]\n",
      "Window iteration #4\n",
      "window shape of current iteration\n",
      "(40, 168, 7)\n",
      "crossvalidation  value #1\n",
      "fit_time\n",
      "[0.00456071 0.00514507 0.00448012 0.0048902  0.00395441]\n",
      "crossvalidation  value #2\n",
      "score_time\n",
      "[0.00245738 0.00275803 0.00229406 0.00299978 0.00163341]\n",
      "crossvalidation  value #3\n",
      "test_f_score S1\n",
      "[0.57142857 0.57142857 0.66666667 0.8        0.5       ]\n",
      "crossvalidation  value #4\n",
      "test_f_score S2\n",
      "[0.66666667 0.66666667 0.8        0.66666667 0.5       ]\n",
      "Window iteration #5\n",
      "window shape of current iteration\n",
      "(40, 168, 7)\n",
      "crossvalidation  value #1\n",
      "fit_time\n",
      "[0.00488877 0.00503826 0.00525689 0.00944304 0.00444889]\n",
      "crossvalidation  value #2\n",
      "score_time\n",
      "[0.00245333 0.00275922 0.00247717 0.00233531 0.00152874]\n",
      "crossvalidation  value #3\n",
      "test_f_score S1\n",
      "[0.28571429 0.33333333 1.         0.85714286 0.5       ]\n",
      "crossvalidation  value #4\n",
      "test_f_score S2\n",
      "[0.44444444 0.6        1.         0.88888889 0.5       ]\n",
      "Window iteration #6\n",
      "window shape of current iteration\n",
      "(40, 168, 7)\n",
      "crossvalidation  value #1\n",
      "fit_time\n",
      "[0.00481653 0.00424528 0.0056386  0.00533509 0.00457335]\n",
      "crossvalidation  value #2\n",
      "score_time\n",
      "[0.00228548 0.00273156 0.00233078 0.00217533 0.00148034]\n",
      "crossvalidation  value #3\n",
      "test_f_score S1\n",
      "[0.28571429 0.5        0.85714286 0.75       0.        ]\n",
      "crossvalidation  value #4\n",
      "test_f_score S2\n",
      "[0.44444444 0.5        0.88888889 0.75       0.4       ]\n",
      "Window iteration #7\n",
      "window shape of current iteration\n",
      "(40, 168, 7)\n",
      "crossvalidation  value #1\n",
      "fit_time\n",
      "[0.00407314 0.0050559  0.0033946  0.00568676 0.00391364]\n",
      "crossvalidation  value #2\n",
      "score_time\n",
      "[0.00240564 0.00243568 0.00253725 0.00214601 0.00197792]\n",
      "crossvalidation  value #3\n",
      "test_f_score S1\n",
      "[0.28571429 0.5        0.75       0.66666667 0.44444444]\n",
      "crossvalidation  value #4\n",
      "test_f_score S2\n",
      "[0.44444444 0.5        0.75       0.57142857 0.28571429]\n",
      "Window iteration #8\n",
      "window shape of current iteration\n",
      "(40, 168, 7)\n",
      "crossvalidation  value #1\n",
      "fit_time\n",
      "[0.00495148 0.00487161 0.00522661 0.00509477 0.00418258]\n",
      "crossvalidation  value #2\n",
      "score_time\n",
      "[0.00231886 0.00273538 0.00235581 0.00215173 0.0016942 ]\n",
      "crossvalidation  value #3\n",
      "test_f_score S1\n",
      "[0.5        0.44444444 0.85714286 0.85714286 0.25      ]\n",
      "crossvalidation  value #4\n",
      "test_f_score S2\n",
      "[0.5        0.28571429 0.88888889 0.88888889 0.25      ]\n",
      "Window iteration #9\n",
      "window shape of current iteration\n",
      "(40, 168, 7)\n",
      "crossvalidation  value #1\n",
      "fit_time\n",
      "[0.00528932 0.00622535 0.00433183 0.00795984 0.00783706]\n",
      "crossvalidation  value #2\n",
      "score_time\n",
      "[0.00292993 0.00250149 0.00254703 0.00241804 0.00152254]\n",
      "crossvalidation  value #3\n",
      "test_f_score S1\n",
      "[0.57142857 0.5        0.66666667 1.         0.44444444]\n",
      "crossvalidation  value #4\n",
      "test_f_score S2\n",
      "[0.66666667 0.5        0.8        1.         0.28571429]\n",
      "Window iteration #10\n",
      "window shape of current iteration\n",
      "(40, 168, 7)\n",
      "crossvalidation  value #1\n",
      "fit_time\n",
      "[0.00528789 0.00449324 0.00486898 0.00545549 0.00925398]\n",
      "crossvalidation  value #2\n",
      "score_time\n",
      "[0.00230074 0.00248432 0.00214839 0.00296474 0.00179219]\n",
      "crossvalidation  value #3\n",
      "test_f_score S1\n",
      "[0.75       0.44444444 0.66666667 0.75       0.28571429]\n",
      "crossvalidation  value #4\n",
      "test_f_score S2\n",
      "[0.75       0.28571429 0.8        0.75       0.44444444]\n",
      "Window iteration #11\n",
      "window shape of current iteration\n",
      "(40, 168, 7)\n",
      "crossvalidation  value #1\n",
      "fit_time\n",
      "[0.006145   0.00703859 0.00465012 0.01137638 0.00395894]\n",
      "crossvalidation  value #2\n",
      "score_time\n",
      "[0.00289893 0.00368595 0.00266099 0.00180244 0.0022316 ]\n",
      "crossvalidation  value #3\n",
      "test_f_score S1\n",
      "[0.5        0.5        0.88888889 0.66666667 0.75      ]\n",
      "crossvalidation  value #4\n",
      "test_f_score S2\n",
      "[0.5        0.5        0.85714286 0.57142857 0.75      ]\n",
      "Window iteration #12\n",
      "window shape of current iteration\n",
      "(40, 168, 7)\n",
      "crossvalidation  value #1\n",
      "fit_time\n",
      "[0.00529218 0.00500679 0.00465775 0.00561857 0.00452828]\n",
      "crossvalidation  value #2\n",
      "score_time\n",
      "[0.00268054 0.0025816  0.00222993 0.00239706 0.00164318]\n",
      "crossvalidation  value #3\n",
      "test_f_score S1\n",
      "[0.57142857 0.5        0.75       0.66666667 0.28571429]\n",
      "crossvalidation  value #4\n",
      "test_f_score S2\n",
      "[0.66666667 0.5        0.75       0.57142857 0.44444444]\n",
      "Window iteration #13\n",
      "window shape of current iteration\n",
      "(40, 168, 7)\n",
      "crossvalidation  value #1\n",
      "fit_time\n",
      "[0.0047555  0.00452852 0.00476503 0.00494337 0.00541329]\n",
      "crossvalidation  value #2\n",
      "score_time\n",
      "[0.0022912  0.00229239 0.00211906 0.00418377 0.00157309]\n",
      "crossvalidation  value #3\n",
      "test_f_score S1\n",
      "[0.57142857 0.5        0.75       0.44444444 0.25      ]\n",
      "crossvalidation  value #4\n",
      "test_f_score S2\n",
      "[0.66666667 0.5        0.75       0.28571429 0.25      ]\n",
      "Window iteration #14\n",
      "window shape of current iteration\n",
      "(40, 168, 7)\n",
      "crossvalidation  value #1\n",
      "fit_time\n",
      "[0.00410175 0.00540805 0.0045712  0.00376987 0.00336432]\n",
      "crossvalidation  value #2\n",
      "score_time\n",
      "[0.00246525 0.00269175 0.00217652 0.00186515 0.00147843]\n",
      "crossvalidation  value #3\n",
      "test_f_score S1\n",
      "[0.44444444 0.57142857 0.75       0.28571429 0.28571429]\n",
      "crossvalidation  value #4\n",
      "test_f_score S2\n",
      "[0.28571429 0.66666667 0.75       0.44444444 0.44444444]\n",
      "Window iteration #15\n",
      "window shape of current iteration\n",
      "(40, 168, 7)\n",
      "crossvalidation  value #1\n",
      "fit_time\n",
      "[0.00461888 0.00544357 0.00373149 0.00484681 0.00407815]\n",
      "crossvalidation  value #2\n",
      "score_time\n",
      "[0.00229812 0.00249219 0.00656796 0.00265598 0.00152469]\n",
      "crossvalidation  value #3\n",
      "test_f_score S1\n",
      "[0.28571429 0.66666667 0.88888889 0.5        0.44444444]\n",
      "crossvalidation  value #4\n",
      "test_f_score S2\n",
      "[0.44444444 0.8        0.85714286 0.5        0.28571429]\n",
      "Window iteration #16\n",
      "window shape of current iteration\n",
      "(40, 168, 7)\n",
      "crossvalidation  value #1\n",
      "fit_time\n",
      "[0.00448465 0.00602722 0.00588036 0.00526929 0.00409293]\n",
      "crossvalidation  value #2\n",
      "score_time\n",
      "[0.00261259 0.00214672 0.00241089 0.0038867  0.00147057]\n",
      "crossvalidation  value #3\n",
      "test_f_score S1\n",
      "[0.28571429 0.75       0.66666667 0.66666667 0.44444444]\n",
      "crossvalidation  value #4\n",
      "test_f_score S2\n",
      "[0.44444444 0.75       0.57142857 0.57142857 0.28571429]\n",
      "Window iteration #17\n",
      "window shape of current iteration\n",
      "(40, 168, 7)\n",
      "crossvalidation  value #1\n",
      "fit_time\n",
      "[0.00524569 0.00548124 0.00556493 0.00536871 0.00573015]\n",
      "crossvalidation  value #2\n",
      "score_time\n",
      "[0.00226665 0.00243783 0.00220132 0.0087285  0.00248289]\n",
      "crossvalidation  value #3\n",
      "test_f_score S1\n",
      "[0.57142857 0.75       0.75       0.8        0.44444444]\n",
      "crossvalidation  value #4\n",
      "test_f_score S2\n",
      "[0.66666667 0.75       0.75       0.66666667 0.28571429]\n",
      "Window iteration #18\n",
      "window shape of current iteration\n",
      "(40, 168, 6)\n",
      "crossvalidation  value #1\n",
      "fit_time\n",
      "[0.00388551 0.00621438 0.00330067 0.00474048 0.0037868 ]\n",
      "crossvalidation  value #2\n",
      "score_time\n",
      "[0.00269413 0.00237393 0.00232458 0.00218701 0.00186205]\n",
      "crossvalidation  value #3\n",
      "test_f_score S1\n",
      "[0.57142857 0.66666667 0.66666667 0.8        0.57142857]\n",
      "crossvalidation  value #4\n",
      "test_f_score S2\n",
      "[0.66666667 0.57142857 0.57142857 0.66666667 0.66666667]\n",
      "Window iteration #19\n",
      "window shape of current iteration\n",
      "(40, 168, 6)\n",
      "crossvalidation  value #1\n",
      "fit_time\n",
      "[0.00414538 0.00369525 0.00412703 0.00488019 0.00383711]\n",
      "crossvalidation  value #2\n",
      "score_time\n",
      "[0.00247884 0.00260282 0.00210571 0.00235772 0.00145864]\n",
      "crossvalidation  value #3\n",
      "test_f_score S1\n",
      "[0.88888889 0.88888889 0.44444444 0.66666667 0.66666667]\n",
      "crossvalidation  value #4\n",
      "test_f_score S2\n",
      "[0.85714286 0.85714286 0.28571429 0.57142857 0.57142857]\n",
      "Window iteration #20\n",
      "window shape of current iteration\n",
      "(40, 168, 6)\n",
      "crossvalidation  value #1\n",
      "fit_time\n",
      "[0.00506115 0.00440741 0.00397944 0.0058496  0.00791407]\n",
      "crossvalidation  value #2\n",
      "score_time\n",
      "[0.00232863 0.00280762 0.00222063 0.00499725 0.0016408 ]\n",
      "crossvalidation  value #3\n",
      "test_f_score S1\n",
      "[0.75       0.6        0.44444444 0.66666667 0.66666667]\n",
      "crossvalidation  value #4\n",
      "test_f_score S2\n",
      "[0.75       0.33333333 0.28571429 0.57142857 0.57142857]\n",
      "Window iteration #21\n",
      "window shape of current iteration\n",
      "(40, 168, 6)\n",
      "crossvalidation  value #1\n",
      "fit_time\n",
      "[0.0050807  0.00445747 0.00400877 0.00543976 0.00424767]\n",
      "crossvalidation  value #2\n",
      "score_time\n",
      "[0.0022912  0.00237942 0.0022037  0.00208235 0.00146699]\n",
      "crossvalidation  value #3\n",
      "test_f_score S1\n",
      "[0.75 0.5  0.25 0.6  0.25]\n",
      "crossvalidation  value #4\n",
      "test_f_score S2\n",
      "[0.75       0.5        0.25       0.33333333 0.25      ]\n"
     ]
    }
   ],
   "source": [
    "S1_f_score, S2_f_score, S1_f_score_std, S2_f_score_std = cross_validate_clf(split_windows, y_S1_S2, cv, scoring, clf)"
   ]
  },
  {
   "cell_type": "code",
   "execution_count": 439,
   "metadata": {
    "colab": {
     "base_uri": "https://localhost:8080/",
     "height": 136
    },
    "colab_type": "code",
    "collapsed": false,
    "executionInfo": {
     "elapsed": 1106,
     "status": "ok",
     "timestamp": 1592517240299,
     "user": {
      "displayName": "Alexandre Mahrach",
      "photoUrl": "https://lh3.googleusercontent.com/a-/AOh14GhREbTfVj7nG3n79EpQHV8mQZTpDxc2i0dEE1QVnA=s64",
      "userId": "06055010574325695552"
     },
     "user_tz": -120
    },
    "id": "kpyVQoV1LZRQ",
    "outputId": "2b0609a1-4948-4d93-b7e4-d49a6243d7da"
   },
   "outputs": [
    {
     "name": "stdout",
     "output_type": "stream",
     "text": [
      "S1_f_score\n",
      "[0.61666667 0.58095238 0.56190476 0.62190476 0.5952381  0.47857143\n",
      " 0.52936508 0.58174603 0.63650794 0.57936508 0.66111111 0.5547619\n",
      " 0.5031746  0.46746032 0.55714286 0.56269841 0.6631746  0.6552381\n",
      " 0.71111111 0.62555556 0.47      ]\n",
      "\n",
      "List lenght (f_score) 21\n"
     ]
    }
   ],
   "source": [
    "#sample of the results\n",
    "print('S1_f_score')\n",
    "print(S1_f_score)\n",
    "print('\\nList lenght (f_score) ' + str(len(S1_f_score)))"
   ]
  },
  {
   "cell_type": "code",
   "execution_count": 440,
   "metadata": {
    "colab": {
     "base_uri": "https://localhost:8080/",
     "height": 136
    },
    "colab_type": "code",
    "collapsed": false,
    "executionInfo": {
     "elapsed": 829,
     "status": "ok",
     "timestamp": 1592517240952,
     "user": {
      "displayName": "Alexandre Mahrach",
      "photoUrl": "https://lh3.googleusercontent.com/a-/AOh14GhREbTfVj7nG3n79EpQHV8mQZTpDxc2i0dEE1QVnA=s64",
      "userId": "06055010574325695552"
     },
     "user_tz": -120
    },
    "id": "rzC7Us53HrIH",
    "outputId": "c1c7b7a1-6470-4e48-db93-44c25b5e3a6e"
   },
   "outputs": [
    {
     "name": "stdout",
     "output_type": "stream",
     "text": [
      "S2_f_score\n",
      "[0.57857143 0.56190476 0.58095238 0.66       0.68666667 0.59666667\n",
      " 0.51031746 0.56269841 0.65047619 0.60603175 0.63571429 0.58650794\n",
      " 0.49047619 0.51825397 0.57746032 0.52460317 0.62380952 0.62857143\n",
      " 0.62857143 0.50238095 0.41666667]\n",
      "\n",
      "List lenght (f_score) 21\n"
     ]
    }
   ],
   "source": [
    "#sample of the results\n",
    "print('S2_f_score')\n",
    "print(S2_f_score)\n",
    "print('\\nList lenght (f_score) ' + str(len(S2_f_score)))"
   ]
  },
  {
   "cell_type": "code",
   "execution_count": 441,
   "metadata": {
    "colab": null,
    "colab_type": "code",
    "collapsed": false,
    "executionInfo": {
     "elapsed": 834,
     "status": "ok",
     "timestamp": 1592517241977,
     "user": {
      "displayName": "Alexandre Mahrach",
      "photoUrl": "https://lh3.googleusercontent.com/a-/AOh14GhREbTfVj7nG3n79EpQHV8mQZTpDxc2i0dEE1QVnA=s64",
      "userId": "06055010574325695552"
     },
     "user_tz": -120
    },
    "id": "VyWDy3El9bFk"
   },
   "outputs": [],
   "source": [
    "#plot for mean and using function fill (in between) in matplotlib for standard deviation\n",
    "\n",
    "def plot_decoding_results(S1_f_score, S2_f_score, S1_f_score_std, S2_f_score_std):\n",
    "    plt.plot(time, S1_f_score, label='S1', marker='.', color='green')\n",
    "    plt.fill_between(time, S1_f_score - S1_f_score_std, S1_f_score + S1_f_score_std, alpha=0.25, color='green')\n",
    "    plt.plot(time, S2_f_score, label='S2', marker='.', color='magenta')\n",
    "    plt.fill_between(time, S2_f_score - S2_f_score_std, S2_f_score + S2_f_score_std, alpha=0.25, color='magenta')\n",
    "\n",
    "\n",
    "    # horizontal line to exemplify our chance level\n",
    "    y_for_chance = np.repeat(0.50, len(split_windows))\n",
    "\n",
    "    plt.plot(time, y_for_chance, '--', c='black')\n",
    "    plt.ylim([0.4, 1])\n",
    "    plt.grid(which='both')\n",
    "    plt.minorticks_on()\n",
    "    plt.xlabel('Time (ms)')\n",
    "    plt.legend(loc='upper right')\n",
    "    plt.ylabel('decoder f-score')\n",
    "\n",
    "    # show y axis as percentage\n",
    "    plt.gca().yaxis.set_major_formatter(ticker.PercentFormatter(xmax=1))\n",
    "    plt.axvline(x=2, c='black', linestyle='dashed')\n",
    "    plt.axvline(x=3, c='black', linestyle='dashed')\n",
    "\n",
    "    # vertical lines for cue and stimulus\n",
    "    plt.text(2.1, 0.95, 'Sample', rotation=0)\n",
    "    plt.text(12.1, 0.95, 'Test', rotation=0)\n",
    "\n",
    "    plt.axvline(x=12, c='black', linestyle='dashed')\n",
    "    plt.axvline(x=13, c='black', linestyle='dashed')\n",
    "    plt.title('S1 and S2 decoding')\n",
    "    fig = plt.gcf()\n",
    "    fig.set_size_inches(10, 5)\n",
    "    # fig.savefig(folder + area + '_S1_S2_plot.png', format='png')\n"
   ]
  },
  {
   "cell_type": "code",
   "execution_count": 442,
   "metadata": {
    "colab": {
     "base_uri": "https://localhost:8080/",
     "height": 350
    },
    "colab_type": "code",
    "collapsed": false,
    "executionInfo": {
     "elapsed": 1572,
     "status": "ok",
     "timestamp": 1592517243293,
     "user": {
      "displayName": "Alexandre Mahrach",
      "photoUrl": "https://lh3.googleusercontent.com/a-/AOh14GhREbTfVj7nG3n79EpQHV8mQZTpDxc2i0dEE1QVnA=s64",
      "userId": "06055010574325695552"
     },
     "user_tz": -120
    },
    "id": "pfkmbIr-E7xj",
    "outputId": "d51a4392-e702-4993-d04c-54bdaefd2042"
   },
   "outputs": [
    {
     "data": {
      "image/png": "[encoded data removed]",
      "text/plain": [
       "<Figure size 720x360 with 1 Axes>"
      ]
     },
     "metadata": {
      "needs_background": "light",
      "tags": null
     },
     "output_type": "display_data"
    }
   ],
   "source": [
    "plot_decoding_results(S1_f_score, S2_f_score, S1_f_score_std, S2_f_score_std)"
   ]
  },
  {
   "cell_type": "code",
   "execution_count": 265,
   "metadata": {
    "colab": null,
    "colab_type": "code",
    "collapsed": false,
    "executionInfo": {
     "elapsed": 2982,
     "status": "ok",
     "timestamp": 1592514373780,
     "user": {
      "displayName": "Alexandre Mahrach",
      "photoUrl": "https://lh3.googleusercontent.com/a-/AOh14GhREbTfVj7nG3n79EpQHV8mQZTpDxc2i0dEE1QVnA=s64",
      "userId": "06055010574325695552"
     },
     "user_tz": -120
    },
    "id": "pimnjbQOOl74"
   },
   "outputs": [],
   "source": []
  }
 ],
 "metadata": {
  "colab": {
   "authorship_tag": "ABX9TyMchv3pr+hZu+wR833oiO9K",
   "collapsed_sections": null,
   "mount_file_id": "1hYbNQR_5K2bMv-CJbY15C4HwGtPveT2o",
   "name": "dual_task_decode.ipynb",
   "provenance": null
  },
  "kernelspec": {
   "argv": [
    "python",
    "-m",
    "ipykernel_launcher",
    "-f",
    "{connection_file}"
   ],
   "display_name": "Python 3",
   "env": null,
   "interrupt_mode": "signal",
   "language": "python",
   "metadata": null,
   "name": "python3"
  },
  "name": "dual_task_decode.ipynb"
 },
 "nbformat": 4,
 "nbformat_minor": 0
}
